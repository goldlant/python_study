{
  "nbformat": 4,
  "nbformat_minor": 0,
  "metadata": {
    "kernelspec": {
      "display_name": "Python 3",
      "language": "python",
      "name": "python3"
    },
    "language_info": {
      "codemirror_mode": {
        "name": "ipython",
        "version": 3
      },
      "file_extension": ".py",
      "mimetype": "text/x-python",
      "name": "python",
      "nbconvert_exporter": "python",
      "pygments_lexer": "ipython3",
      "version": "3.6.4"
    },
    "colab": {
      "name": "ML_4",
      "provenance": [],
      "collapsed_sections": [],
      "include_colab_link": true
    }
  },
  "cells": [
    {
      "cell_type": "markdown",
      "metadata": {
        "id": "view-in-github",
        "colab_type": "text"
      },
      "source": [
        "<a href=\"https://colab.research.google.com/github/selfmaded/python_study/blob/master/ML_4.ipynb\" target=\"_parent\"><img src=\"https://colab.research.google.com/assets/colab-badge.svg\" alt=\"Open In Colab\"/></a>"
      ]
    },
    {
      "cell_type": "markdown",
      "metadata": {
        "id": "l3lOhayukZFX"
      },
      "source": [
        "# **앙상블 기법 활용** "
      ]
    },
    {
      "cell_type": "markdown",
      "metadata": {
        "id": "-rh7oq8Cl9mU"
      },
      "source": [
        "# **랜덤포레스트 손글씨 분류**"
      ]
    },
    {
      "cell_type": "markdown",
      "metadata": {
        "id": "MncCBVZj6pu0"
      },
      "source": [
        "**라이브러리 import**"
      ]
    },
    {
      "cell_type": "code",
      "metadata": {
        "id": "3O53ItnUysl-"
      },
      "source": [
        "from sklearn.datasets import fetch_openml\n",
        "from sklearn.model_selection import train_test_split\n",
        "from sklearn import tree\n",
        "from sklearn.ensemble import RandomForestClassifier\n",
        "from sklearn.metrics import accuracy_score\n",
        "from sklearn.model_selection import GridSearchCV\n",
        "import matplotlib.pyplot as plt\n",
        "import numpy as np\n",
        "import pandas as pd\n",
        "import seaborn as sns"
      ],
      "execution_count": null,
      "outputs": []
    },
    {
      "cell_type": "markdown",
      "metadata": {
        "id": "69fQ2Oum6sLM"
      },
      "source": [
        "**데이터셋 로드 및 확인**"
      ]
    },
    {
      "cell_type": "code",
      "metadata": {
        "id": "z8zw5WcdzRjx"
      },
      "source": [
        "mnist = fetch_openml('mnist_784') # mnist_784 데이터셋 로드"
      ],
      "execution_count": null,
      "outputs": []
    },
    {
      "cell_type": "code",
      "metadata": {
        "id": "9ekmbjCIMIJZ",
        "colab": {
          "base_uri": "https://localhost:8080/",
          "height": 197
        },
        "outputId": "4f843970-a530-4289-b530-ff03b05ce44f"
      },
      "source": [
        "mnist_data = mnist.data[:10000] # mnist.data에서 10000개의 데이터만 mnist_data에 대입후 선언\n",
        "mnist_target = mnist.target[:10000] # mnist.target에서 10000개의 데이터만 mnist_data에 대입후 선언\n",
        "\n",
        "print(mnist_data) # mnist_data 출력\n",
        "print(mnist_data.shape) # mnist_data 데이터 shape 출력\n",
        "print(mnist_target) # mnist_target 출력\n",
        "print(mnist_target.shape) # mnist_target 데이터 shape 출력"
      ],
      "execution_count": null,
      "outputs": [
        {
          "output_type": "stream",
          "text": [
            "[[0. 0. 0. ... 0. 0. 0.]\n",
            " [0. 0. 0. ... 0. 0. 0.]\n",
            " [0. 0. 0. ... 0. 0. 0.]\n",
            " ...\n",
            " [0. 0. 0. ... 0. 0. 0.]\n",
            " [0. 0. 0. ... 0. 0. 0.]\n",
            " [0. 0. 0. ... 0. 0. 0.]]\n",
            "(10000, 784)\n",
            "['5' '0' '4' ... '6' '9' '7']\n",
            "(10000,)\n"
          ],
          "name": "stdout"
        }
      ]
    },
    {
      "cell_type": "markdown",
      "metadata": {
        "id": "7wcIOSm17Ck1"
      },
      "source": [
        "**학습/테스트 데이터 나누기**"
      ]
    },
    {
      "cell_type": "code",
      "metadata": {
        "id": "O5qQMrgIz0Fg"
      },
      "source": [
        "# 20%를 테스트 데이터로 분류합니다\n",
        "X_train,X_test,y_train,y_test=train_test_split(mnist_data,\n",
        "                                               mnist_target,test_size=0.2) # train_test_split을 사용하여 mnist_data와 mnist_target를 8:2로 나누어 학습 데이터, 테스트 데이터 생성"
      ],
      "execution_count": null,
      "outputs": []
    },
    {
      "cell_type": "markdown",
      "metadata": {
        "id": "7IBV6cIR7HhQ"
      },
      "source": [
        "**파라미터 없이 학습하기**"
      ]
    },
    {
      "cell_type": "code",
      "metadata": {
        "id": "BgiHX0qEIeUY"
      },
      "source": [
        "# module loading\n",
        "dt_clf = tree.DecisionTreeClassifier() # decision tree classifier 선언\n",
        "rf_clf = RandomForestClassifier() # random forest classifier 선언\n",
        "\n",
        "# train data!\n",
        "dt_clf.fit(X_train, y_train) # dt_clf 모델을 X_train, y_train 데이터로 학습\n",
        "rf_clf.fit(X_train, y_train) # rf_clf 모델을 X_train, y_train 데이터로 학습\n",
        "\n",
        "# 예측\n",
        "dt_pred = dt_clf.predict(X_test) # df_clf 모델을 통해 X_test의 결과를 예측\n",
        "rf_pred = rf_clf.predict(X_test) # rf_clf 모델을 통해 X_test의 결과를 예측\n",
        "\n",
        "accuracy_dt = accuracy_score(y_test, dt_pred) # y_test와 dt_pred를 통해 정확도 측정\n",
        "accuracy_rf = accuracy_score(y_test, rf_pred) # y_test와 rf_pred를 통해 정확도 측정"
      ],
      "execution_count": null,
      "outputs": []
    },
    {
      "cell_type": "code",
      "metadata": {
        "id": "qRuNFmprIiA0",
        "colab": {
          "base_uri": "https://localhost:8080/",
          "height": 53
        },
        "outputId": "db0edef4-d174-47d1-b5fa-621a88908e9e"
      },
      "source": [
        "print('의사결정트리 예측 정확도: {0:.4f}'.format(accuracy_dt)) # accuracy_dt 출력\n",
        "print('랜덤 포레스트 예측 정확도: {0:.4f}'.format(accuracy_rf)) # accuracy_rf 출력"
      ],
      "execution_count": null,
      "outputs": [
        {
          "output_type": "stream",
          "text": [
            "의사결정트리 예측 정확도: 0.8115\n",
            "랜덤 포레스트 예측 정확도: 0.9485\n"
          ],
          "name": "stdout"
        }
      ]
    },
    {
      "cell_type": "markdown",
      "metadata": {
        "id": "KgRFuOEPAwBA"
      },
      "source": [
        "**모델 파라미터 확인**"
      ]
    },
    {
      "cell_type": "code",
      "metadata": {
        "id": "6O9OWkXyMbMt",
        "colab": {
          "base_uri": "https://localhost:8080/",
          "height": 161
        },
        "outputId": "9ac6e670-2be3-43d7-afe2-48992fd4b0f7"
      },
      "source": [
        "print(rf_clf) # rf_clf의 모델 파라미터 확인"
      ],
      "execution_count": null,
      "outputs": [
        {
          "output_type": "stream",
          "text": [
            "RandomForestClassifier(bootstrap=True, ccp_alpha=0.0, class_weight=None,\n",
            "                       criterion='gini', max_depth=None, max_features='auto',\n",
            "                       max_leaf_nodes=None, max_samples=None,\n",
            "                       min_impurity_decrease=0.0, min_impurity_split=None,\n",
            "                       min_samples_leaf=1, min_samples_split=2,\n",
            "                       min_weight_fraction_leaf=0.0, n_estimators=100,\n",
            "                       n_jobs=None, oob_score=False, random_state=None,\n",
            "                       verbose=0, warm_start=False)\n"
          ],
          "name": "stdout"
        }
      ]
    },
    {
      "cell_type": "markdown",
      "metadata": {
        "id": "jhjmdDMSZAA_"
      },
      "source": [
        "**특징 중요도 확인**"
      ]
    },
    {
      "cell_type": "code",
      "metadata": {
        "id": "OXdS8IhgYC11",
        "colab": {
          "base_uri": "https://localhost:8080/",
          "height": 607
        },
        "outputId": "f033d15f-0611-4bb9-e569-a7a1aa8d8bed"
      },
      "source": [
        "ft_importances_values = rf_clf.feature_importances_ # rf_clf의 feature importance를 ft_importances_value에 대입하여 선언\n",
        "ft_importances = pd.Series(ft_importances_values) # ft_importances_values를 pandas series 형식으로 바꾼 후 ft_importances에 대입하여 선언\n",
        "top10 = ft_importances.sort_values(ascending=False)[:10] # ft_importance값을 높은 값으로 sorting한 후 높은 순으로 10개만 top10에 대입하여 선언\n",
        "plt.figure(figsize=(12,10)) # figure size 설정\n",
        "plt.title('Feature Importances') # figure title 설정\n",
        "sns.barplot(x=top10.index, y=top10) # top10의 index값과 value값으로 bar plot 그래프 생성\n",
        "plt.show() # 그래프 출력"
      ],
      "execution_count": null,
      "outputs": [
        {
          "output_type": "display_data",
          "data": {
            "image/png": "[encoded data removed]",
            "text/plain": [
              "<Figure size 864x720 with 1 Axes>"
            ]
          },
          "metadata": {
            "tags": [],
            "needs_background": "light"
          }
        }
      ]
    },
    {
      "cell_type": "markdown",
      "metadata": {
        "id": "gSQW5_938qAI"
      },
      "source": [
        "**파라미터를 사용하여 학습하기**"
      ]
    },
    {
      "cell_type": "code",
      "metadata": {
        "id": "Bo0JTjS98ncY",
        "colab": {
          "base_uri": "https://localhost:8080/",
          "height": 395
        },
        "outputId": "15682224-ef85-4512-d358-61f16b6de6cd"
      },
      "source": [
        "rf_param_grid ={ # rf_param_grid dictionary 선언\n",
        "    'n_estimators' : [100, 110, 120],\n",
        "    'min_samples_leaf' : [1, 2, 3],\n",
        "    'min_samples_split' : [2, 3, 4]\n",
        "    }\n",
        "rf_clf = RandomForestClassifier(random_state = 0) # random state를 0으로 고정한 random forest classifier 선언\n",
        "grid = GridSearchCV(rf_clf, param_grid = rf_param_grid, scoring='accuracy', n_jobs=1) # gridsearchcv 선언, model: rf_clf, param_grid: grid search parameter(rf_param_grid), scoring: grid search 기준을 'accuracy'로 설정, n_jobs: 병렬처리 설정\n",
        "\n",
        "grid.fit(X_train, y_train) # X_train_, y_train 데이터로 grid 학습"
      ],
      "execution_count": null,
      "outputs": [
        {
          "output_type": "execute_result",
          "data": {
            "text/plain": [
              "GridSearchCV(cv=None, error_score=nan,\n",
              "             estimator=RandomForestClassifier(bootstrap=True, ccp_alpha=0.0,\n",
              "                                              class_weight=None,\n",
              "                                              criterion='gini', max_depth=None,\n",
              "                                              max_features='auto',\n",
              "                                              max_leaf_nodes=None,\n",
              "                                              max_samples=None,\n",
              "                                              min_impurity_decrease=0.0,\n",
              "                                              min_impurity_split=None,\n",
              "                                              min_samples_leaf=1,\n",
              "                                              min_samples_split=2,\n",
              "                                              min_weight_fraction_leaf=0.0,\n",
              "                                              n_estimators=100, n_jobs=None,\n",
              "                                              oob_score=False, random_state=0,\n",
              "                                              verbose=0, warm_start=False),\n",
              "             iid='deprecated', n_jobs=1,\n",
              "             param_grid={'min_samples_leaf': [1, 2, 3],\n",
              "                         'min_samples_split': [2, 3, 4],\n",
              "                         'n_estimators': [100, 110, 120]},\n",
              "             pre_dispatch='2*n_jobs', refit=True, return_train_score=False,\n",
              "             scoring='accuracy', verbose=0)"
            ]
          },
          "metadata": {
            "tags": []
          },
          "execution_count": 18
        }
      ]
    },
    {
      "cell_type": "code",
      "metadata": {
        "id": "V5fPowXW8ub4",
        "colab": {
          "base_uri": "https://localhost:8080/",
          "height": 53
        },
        "outputId": "1c1d077e-8710-4aa8-a93a-e4255d90f327"
      },
      "source": [
        "print('최고 평균 정확도 : {0:.4f}'.format(grid.best_score_)) # grid의 best scroe를 출력\n",
        "print(grid.best_params_)  # grid의 best parameter 출력"
      ],
      "execution_count": null,
      "outputs": [
        {
          "output_type": "stream",
          "text": [
            "최고 평균 정확도 : 0.9440\n",
            "{'min_samples_leaf': 1, 'min_samples_split': 4, 'n_estimators': 110}\n"
          ],
          "name": "stdout"
        }
      ]
    },
    {
      "cell_type": "markdown",
      "metadata": {
        "id": "QynO5dJDTbG2"
      },
      "source": [
        "# **앙상블 기법 활용2**"
      ]
    },
    {
      "cell_type": "markdown",
      "metadata": {
        "id": "uHvzLMsZmDlm"
      },
      "source": [
        "# 보팅 앙상블 손글씨 분류"
      ]
    },
    {
      "cell_type": "markdown",
      "metadata": {
        "id": "Yy1eBGLRmL2C"
      },
      "source": [
        "**라이브러리 import**"
      ]
    },
    {
      "cell_type": "code",
      "metadata": {
        "id": "aPrJSS4_mDWG"
      },
      "source": [
        "from sklearn import datasets\n",
        "from sklearn import tree\n",
        "from sklearn.neighbors import KNeighborsClassifier\n",
        "from sklearn.svm import SVC\n",
        "from sklearn.ensemble import VotingClassifier\n",
        "from sklearn.model_selection import train_test_split\n",
        "from sklearn.metrics import accuracy_score\n",
        "import numpy as np\n",
        "import matplotlib.pyplot as plt"
      ],
      "execution_count": null,
      "outputs": []
    },
    {
      "cell_type": "markdown",
      "metadata": {
        "id": "mzd0hGtAl5CX"
      },
      "source": [
        "**손글씨 데이터 로드**"
      ]
    },
    {
      "cell_type": "code",
      "metadata": {
        "id": "a6ERPICil5CZ"
      },
      "source": [
        "np.random.seed(5) # sklearn 모델의 동일한 결과 출력을 위해 선언 (random seed 설정)\n",
        "mnist = datasets.load_digits() # mnist 데이터 로드\n",
        "features, labels = mnist.data, mnist.target # mnist data와 target을 features와 labels에 각각 대입하여 선언\n",
        "X_train,X_test,y_train,y_test=train_test_split(features,labels,test_size=0.2) #  features, labels를 8:2비율의 train, test set으로 나누어 분류"
      ],
      "execution_count": null,
      "outputs": []
    },
    {
      "cell_type": "code",
      "metadata": {
        "id": "2dOkQShT2xhH"
      },
      "source": [
        ""
      ],
      "execution_count": null,
      "outputs": []
    },
    {
      "cell_type": "markdown",
      "metadata": {
        "id": "l2vRy9Rsl5Ce"
      },
      "source": [
        "**단일 모델 정확도 측정**"
      ]
    },
    {
      "cell_type": "code",
      "metadata": {
        "id": "hG6BQ9Tjl5Cf"
      },
      "source": [
        "dtree = tree.DecisionTreeClassifier( # decision tree classifier 선언, criterion: split할 특성 선택 알고리즘, ('gini': 지니 계수, 'entropy': 엔트로피), max_depth: tree의 depth 설정, max_features: 하위 노드로 분리할 때 랜덤으로 선택되는 feature의 개수\n",
        "    criterion=\"gini\", max_depth=8, max_features=32)\n",
        "\n",
        "dtree = dtree.fit(X_train, y_train) # X_train, y_train을 사용하여 dtree 학습\n",
        "dtree_predicted = dtree.predict(X_test) # dtree를 사용하여 X_test 결과 예측\n",
        "\n",
        "knn = KNeighborsClassifier(n_neighbors=299).fit(X_train, y_train) # neighbors를 299로 설정한 Knn을 선언하여 X_train, y_train으로 학습\n",
        "knn_predicted = knn.predict(X_test) # knn을 사용하여 X_test 결과 예측\n",
        "\n",
        "svm = SVC(C=0.1, gamma=0.003, # Support Vector Classifier 선언 후 X_train_ y_train으로 학습\n",
        "          probability=True).fit(X_train, y_train) # C: 규제 정도, gamma: 커널폭의 역수, probability: 확률 추정의 사용 여부 설정\n",
        "svm_predicted = svm.predict(X_test) # svm을 사용하여 X_test의 결과 예측"
      ],
      "execution_count": null,
      "outputs": []
    },
    {
      "cell_type": "code",
      "metadata": {
        "id": "cH-rZdKxl5Ci",
        "colab": {
          "base_uri": "https://localhost:8080/",
          "height": 89
        },
        "outputId": "2673fbbf-f392-4df7-c1b5-16a59a2e2ca9"
      },
      "source": [
        "print(\"[accuarcy]\")\n",
        "print(\"d-tree: \", accuracy_score(y_test, dtree_predicted)) # y_test와 dtree_predicted를 사용하여 정확도를 측정하고 결과 출력\n",
        "print(\"knn   : \", accuracy_score(y_test, knn_predicted)) # y_test와 knn_predicted를 사용하여 정확도를 측정하고 결과 출력\n",
        "print(\"svm   : \", accuracy_score(y_test, svm_predicted)) # y_test와 svm_predicted를 사용하여 정확도를 측정하고 결과 출력"
      ],
      "execution_count": null,
      "outputs": [
        {
          "output_type": "stream",
          "text": [
            "[accuarcy]\n",
            "d-tree:  0.7916666666666666\n",
            "knn   :  0.8944444444444445\n",
            "svm   :  0.8916666666666667\n"
          ],
          "name": "stdout"
        }
      ]
    },
    {
      "cell_type": "markdown",
      "metadata": {
        "id": "KEPuTsA10iCL"
      },
      "source": [
        "**분류값별 확률 확인**"
      ]
    },
    {
      "cell_type": "code",
      "metadata": {
        "id": "p8XozfOBl5Cq",
        "colab": {
          "base_uri": "https://localhost:8080/",
          "height": 89
        },
        "outputId": "f35628e1-55f8-4555-ecd5-ca0b3cb7b3d7"
      },
      "source": [
        "svm_proba = svm.predict_proba(X_test) # svm을 사용하여 X_test의 결과를 확률로 예측\n",
        "print(svm_proba[0:2]) # svm_proba 상위 2개에 대한 확률 값을 출력"
      ],
      "execution_count": null,
      "outputs": [
        {
          "output_type": "stream",
          "text": [
            "[[0.0024204  0.00606615 0.00987758 0.00448485 0.00718829 0.87457395\n",
            "  0.00271474 0.00980553 0.06667548 0.01619302]\n",
            " [0.00320224 0.00769816 0.85262968 0.0075194  0.0068834  0.01555122\n",
            "  0.00370144 0.00983945 0.0769742  0.01600082]]\n"
          ],
          "name": "stdout"
        }
      ]
    },
    {
      "cell_type": "markdown",
      "metadata": {
        "id": "pzjXl_4Xl5Cu"
      },
      "source": [
        "**하드 보팅**"
      ]
    },
    {
      "cell_type": "code",
      "metadata": {
        "id": "ZNXvA-k3l5Cu",
        "colab": {
          "base_uri": "https://localhost:8080/",
          "height": 35
        },
        "outputId": "1b868eba-60dc-4145-eb90-74f249e67b7e"
      },
      "source": [
        "voting_model = VotingClassifier(estimators=[ # voting classifier 선언, estimator로는 decision tree, knn, svm을 사용, 가중치는 1,1,1로 동일하게 설정, voting: hard, soft 설정\n",
        "    ('Decision_Tree', dtree), ('k-NN', knn), ('SVM', svm)], \n",
        "    weights=[1,1,1], voting='hard')\n",
        "voting_model.fit(X_train, y_train) # X_train, y_train 데이터로 voting_model 학습\n",
        "hard_voting_predicted = voting_model.predict(X_test) # voting_model을 통해 X_test 결과 예측\n",
        "accuracy_score(y_test, hard_voting_predicted) # y_test, hard_voting_predicted로 정확도를 계산하여 반환"
      ],
      "execution_count": null,
      "outputs": [
        {
          "output_type": "execute_result",
          "data": {
            "text/plain": [
              "0.9472222222222222"
            ]
          },
          "metadata": {
            "tags": []
          },
          "execution_count": 25
        }
      ]
    },
    {
      "cell_type": "markdown",
      "metadata": {
        "id": "etDq-i9vl5Cz"
      },
      "source": [
        "**소프트 보팅**"
      ]
    },
    {
      "cell_type": "code",
      "metadata": {
        "id": "FZTAC-QEl5C0",
        "colab": {
          "base_uri": "https://localhost:8080/",
          "height": 35
        },
        "outputId": "0b58289a-da00-40e7-e771-f3b0f2dc0d15"
      },
      "source": [
        "voting_model = VotingClassifier(estimators=[ # # voting classifier 선언, estimator로는 decision tree, knn, svm을 사용, 가중치는 1,1,1로 동일하게 설정, voting: hard, soft 설정\n",
        "    ('Decision_Tree', dtree), ('k-NN', knn), ('SVM', svm)], \n",
        "    weights=[1,1,1], voting='soft')\n",
        "voting_model.fit(X_train, y_train) # X_train, y_train 데이터로 voting_model 학습\n",
        "soft_voting_predicted = voting_model.predict(X_test) # voting_model을 통해 X_test 결과 예측\n",
        "accuracy_score(y_test, soft_voting_predicted) # y_test, soft_voting_predicted로 정확도를 계산하여 반환"
      ],
      "execution_count": null,
      "outputs": [
        {
          "output_type": "execute_result",
          "data": {
            "text/plain": [
              "0.9222222222222223"
            ]
          },
          "metadata": {
            "tags": []
          },
          "execution_count": 26
        }
      ]
    },
    {
      "cell_type": "markdown",
      "metadata": {
        "id": "Y5-Noq2El5C3"
      },
      "source": [
        "**정확도 비교 시각화**"
      ]
    },
    {
      "cell_type": "code",
      "metadata": {
        "id": "_lGKIW-dl5C4",
        "colab": {
          "base_uri": "https://localhost:8080/",
          "height": 265
        },
        "outputId": "62c904d1-9145-46ee-cffc-dae134d038f7"
      },
      "source": [
        "x = np.arange(5) # [0, 1, 2, 3, 4] 배열을 x에 대입하여 선언\n",
        "plt.bar(x, height= [accuracy_score(y_test, dtree_predicted), # 'decision tree','knn','svm','hard voting','soft voting' 정확도를 측정하여 바 그래프로 생성\n",
        "                    accuracy_score(y_test, knn_predicted),\n",
        "                    accuracy_score(y_test, svm_predicted),\n",
        "                    accuracy_score(y_test, hard_voting_predicted),\n",
        "                    accuracy_score(y_test, soft_voting_predicted)])\n",
        "plt.xticks(x, ['decision tree','knn','svm','hard voting','soft voting']); # x축 레이블 설정"
      ],
      "execution_count": null,
      "outputs": [
        {
          "output_type": "display_data",
          "data": {
            "image/png": "[encoded data removed]",
            "text/plain": [
              "<Figure size 432x288 with 1 Axes>"
            ]
          },
          "metadata": {
            "tags": [],
            "needs_background": "light"
          }
        }
      ]
    }
  ]
}