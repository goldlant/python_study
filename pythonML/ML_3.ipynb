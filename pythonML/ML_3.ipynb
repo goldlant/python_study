{
  "nbformat": 4,
  "nbformat_minor": 0,
  "metadata": {
    "kernelspec": {
      "display_name": "Python 2",
      "language": "python",
      "name": "python2"
    },
    "language_info": {
      "codemirror_mode": {
        "name": "ipython",
        "version": 2
      },
      "file_extension": ".py",
      "mimetype": "text/x-python",
      "name": "python",
      "nbconvert_exporter": "python",
      "pygments_lexer": "ipython2",
      "version": "2.7.11"
    },
    "colab": {
      "name": "ML_3",
      "provenance": [],
      "collapsed_sections": [],
      "include_colab_link": true
    }
  },
  "cells": [
    {
      "cell_type": "markdown",
      "metadata": {
        "id": "view-in-github",
        "colab_type": "text"
      },
      "source": [
        "<a href=\"https://colab.research.google.com/github/selfmaded/python_study/blob/master/ML_3.ipynb\" target=\"_parent\"><img src=\"https://colab.research.google.com/assets/colab-badge.svg\" alt=\"Open In Colab\"/></a>"
      ]
    },
    {
      "cell_type": "markdown",
      "metadata": {
        "id": "uRUwV10TZMex"
      },
      "source": [
        "# **의사결정트리 알고리즘** "
      ]
    },
    {
      "cell_type": "markdown",
      "metadata": {
        "id": "AfPRxNRUrV1_"
      },
      "source": [
        "**라이브러리 import**"
      ]
    },
    {
      "cell_type": "code",
      "metadata": {
        "id": "LWhZHCXNYyjL"
      },
      "source": [
        "import pandas as pd"
      ],
      "execution_count": null,
      "outputs": []
    },
    {
      "cell_type": "markdown",
      "metadata": {
        "id": "N22WrKrEYyjQ"
      },
      "source": [
        "**데이터 수집**"
      ]
    },
    {
      "cell_type": "code",
      "metadata": {
        "id": "KGCbBOPGYyjR"
      },
      "source": [
        "district_dict_list = [ # 자치구별 dictionary list 선언\n",
        "            {'district': 'Gangseo-gu', 'latitude': 37.551000, 'longitude': 126.849500, 'label':'Gangseo'},\n",
        "            {'district': 'Yangcheon-gu', 'latitude': 37.52424, 'longitude': 126.855396, 'label':'Gangseo'},\n",
        "            {'district': 'Guro-gu', 'latitude': 37.4954, 'longitude': 126.8874, 'label':'Gangseo'},\n",
        "            {'district': 'Geumcheon-gu', 'latitude': 37.4519, 'longitude': 126.9020, 'label':'Gangseo'},\n",
        "            {'district': 'Mapo-gu', 'latitude': 37.560229, 'longitude': 126.908728, 'label':'Gangseo'},\n",
        "            \n",
        "            {'district': 'Gwanak-gu', 'latitude': 37.487517, 'longitude': 126.915065, 'label':'Gangnam'},\n",
        "            {'district': 'Dongjak-gu', 'latitude': 37.5124, 'longitude': 126.9393, 'label':'Gangnam'},\n",
        "            {'district': 'Seocho-gu', 'latitude': 37.4837, 'longitude': 127.0324, 'label':'Gangnam'},\n",
        "            {'district': 'Gangnam-gu', 'latitude': 37.5172, 'longitude': 127.0473, 'label':'Gangnam'},\n",
        "            {'district': 'Songpa-gu', 'latitude': 37.503510, 'longitude': 127.117898, 'label':'Gangnam'},\n",
        "   \n",
        "            {'district': 'Yongsan-gu', 'latitude': 37.532561, 'longitude': 127.008605, 'label':'Gangbuk'},\n",
        "            {'district': 'Jongro-gu', 'latitude': 37.5730, 'longitude': 126.9794, 'label':'Gangbuk'},\n",
        "            {'district': 'Seongbuk-gu', 'latitude': 37.603979, 'longitude': 127.056344, 'label':'Gangbuk'},\n",
        "            {'district': 'Nowon-gu', 'latitude': 37.6542, 'longitude': 127.0568, 'label':'Gangbuk'},\n",
        "            {'district': 'Dobong-gu', 'latitude': 37.6688, 'longitude': 127.0471, 'label':'Gangbuk'},\n",
        "     \n",
        "            {'district': 'Seongdong-gu', 'latitude': 37.557340, 'longitude': 127.041667, 'label':'Gangdong'},\n",
        "            {'district': 'Dongdaemun-gu', 'latitude': 37.575759, 'longitude': 127.025288, 'label':'Gangdong'},\n",
        "            {'district': 'Gwangjin-gu', 'latitude': 37.557562, 'longitude': 127.083467, 'label':'Gangdong'},\n",
        "            {'district': 'Gangdong-gu', 'latitude': 37.554194, 'longitude': 127.151405, 'label':'Gangdong'},\n",
        "            {'district': 'Jungrang-gu', 'latitude': 37.593684, 'longitude': 127.090384, 'label':'Gangdong'}\n",
        "         ]\n",
        "\n",
        "train_df = pd.DataFrame(district_dict_list) # district_dict_list를 pandas의 DataFrame 형식으로 변환\n",
        "train_df = train_df[['district', 'longitude', 'latitude', 'label']] #컬럼명 순서 변경"
      ],
      "execution_count": null,
      "outputs": []
    },
    {
      "cell_type": "code",
      "metadata": {
        "id": "0vsRrYKKYyjU"
      },
      "source": [
        "dong_dict_list = [ #동별 dicionary list 선언\n",
        "            {'dong': 'Gaebong-dong', 'latitude': 37.489853, 'longitude': 126.854547, 'label':'Gangseo'},\n",
        "            {'dong': 'Gochuk-dong', 'latitude': 37.501394, 'longitude': 126.859245, 'label':'Gangseo'},\n",
        "            {'dong': 'Hwagok-dong', 'latitude': 37.537759, 'longitude': 126.847951, 'label':'Gangseo'},\n",
        "            {'dong': 'Banghwa-dong', 'latitude': 37.575817, 'longitude': 126.815719, 'label':'Gangseo'},\n",
        "            {'dong': 'Sangam-dong', 'latitude': 37.577039, 'longitude': 126.891620, 'label':'Gangseo'},\n",
        "            \n",
        "            {'dong': 'Nonhyun-dong', 'latitude': 37.508838, 'longitude': 127.030720, 'label':'Gangnam'},\n",
        "            {'dong': 'Daechi-dong', 'latitude': 37.501163, 'longitude': 127.057193, 'label':'Gangnam'},\n",
        "            {'dong': 'Seocho-dong', 'latitude': 37.486401, 'longitude': 127.018281, 'label':'Gangnam'},\n",
        "            {'dong': 'Bangbae-dong', 'latitude': 37.483279, 'longitude': 126.988194, 'label':'Gangnam'},\n",
        "            {'dong': 'Dogok-dong', 'latitude': 37.492896, 'longitude': 127.043159, 'label':'Gangnam'},\n",
        "    \n",
        "            {'dong': 'Pyoungchang-dong', 'latitude': 37.612129, 'longitude': 126.975724, 'label':'Gangbuk'},\n",
        "            {'dong': 'Sungbuk-dong', 'latitude': 37.597916, 'longitude': 126.998067, 'label':'Gangbuk'},\n",
        "            {'dong': 'Ssangmoon-dong', 'latitude': 37.648094, 'longitude': 127.030421, 'label':'Gangbuk'},\n",
        "            {'dong': 'Ui-dong', 'latitude': 37.648446, 'longitude': 127.011396, 'label':'Gangbuk'},\n",
        "            {'dong': 'Samcheong-dong', 'latitude': 37.591109, 'longitude': 126.980488, 'label':'Gangbuk'},\n",
        "    \n",
        "            {'dong': 'Hwayang-dong', 'latitude': 37.544234, 'longitude': 127.071648, 'label':'Gangdong'},\n",
        "            {'dong': 'Gui-dong', 'latitude': 37.543757, 'longitude': 127.086803, 'label':'Gangdong'},\n",
        "            {'dong': 'Neung-dong', 'latitude': 37.553102, 'longitude': 127.080248, 'label':'Gangdong'},\n",
        "            {'dong': 'Amsa-dong', 'latitude': 37.552370, 'longitude': 127.127124, 'label':'Gangdong'},\n",
        "            {'dong': 'Chunho-dong', 'latitude': 37.547436, 'longitude': 127.137382, 'label':'Gangdong'}\n",
        "         ]\n",
        "\n",
        "test_df = pd.DataFrame(dong_dict_list) # dong_dict_list를 pandas의 DataFrame 형식으로 변환\n",
        "test_df = test_df[['dong', 'longitude', 'latitude', 'label']]"
      ],
      "execution_count": null,
      "outputs": []
    },
    {
      "cell_type": "code",
      "metadata": {
        "id": "eZyKAk80YyjX"
      },
      "source": [
        "# 현재 가지고 있는 데이터에서, 레이블의 갯수를 확인\n",
        "print(train_df.label.value_counts()) # train_df의 각 label의 개수를 카운트하여 출력\n",
        "print(test_df.label.value_counts()) # test_df의 각 label의 개수를 카운트하여 출력"
      ],
      "execution_count": null,
      "outputs": []
    },
    {
      "cell_type": "markdown",
      "metadata": {
        "id": "teorDHqzYyje"
      },
      "source": [
        "**데이터 탐색**"
      ]
    },
    {
      "cell_type": "code",
      "metadata": {
        "id": "Lp7BfHLYYyjh"
      },
      "source": [
        "train_df.head() # train_df의 상위 5개 데이터 반환"
      ],
      "execution_count": null,
      "outputs": []
    },
    {
      "cell_type": "code",
      "metadata": {
        "id": "E1HKFhcIYyjk"
      },
      "source": [
        "test_df.head() # test_df의 상위 5개 데이터 반환"
      ],
      "execution_count": null,
      "outputs": []
    },
    {
      "cell_type": "markdown",
      "metadata": {
        "id": "sfDFPzdOYyjm"
      },
      "source": [
        "**데이터 시각화**"
      ]
    },
    {
      "cell_type": "code",
      "metadata": {
        "id": "82oZc6LhYyjo"
      },
      "source": [
        "import matplotlib.pyplot as plt\n",
        "import seaborn as sns\n",
        "\n",
        "# 경도, 위도에 따른 데이터 시각화\n",
        "sns.lmplot('longitude', 'latitude', data=train_df, fit_reg=False,  # x 축, y 축, 데이터, 라인 없음\n",
        "           scatter_kws={\"s\": 150}, # 좌표 상의 점의 크기\n",
        "           markers=[\"o\", \"x\", \"+\", \"*\"], # point marker 모양 설정(o,x,+,*)\n",
        "           hue=\"label\") # label단위로 구분하여 시각화"
      ],
      "execution_count": null,
      "outputs": []
    },
    {
      "cell_type": "markdown",
      "metadata": {
        "id": "TlpRC4iYYyjr"
      },
      "source": [
        "**데이터 다듬기**"
      ]
    },
    {
      "cell_type": "code",
      "metadata": {
        "id": "byf2fw5zYyjs"
      },
      "source": [
        "train_df.drop(['district'], axis=1, inplace = True) # train_df에서 district 데이터 삭제\n",
        "test_df.drop(['dong'], axis=1, inplace = True) # test_df에서 dong 데이터 삭제\n",
        "\n",
        "X_train = train_df[['longitude', 'latitude']] # train_df의 longitude와 laitude데이터를 X_train에 대입하여 선언\n",
        "y_train = train_df[['label']] # train_df의 label 데이터를 y_train에 대입하여 선언\n",
        "\n",
        "X_test = test_df[['longitude', 'latitude']] # test_df의 longitude와 laitude데이터를 X_test에 대입하여 선언\n",
        "y_test = test_df[['label']] # test_df의 label 데이터를 y_test에 대입하여 선언"
      ],
      "execution_count": null,
      "outputs": []
    },
    {
      "cell_type": "code",
      "metadata": {
        "id": "li6QTASeYyju"
      },
      "source": [
        "from sklearn import tree\n",
        "import numpy as np\n",
        "import matplotlib.pyplot as plt\n",
        "from sklearn import preprocessing"
      ],
      "execution_count": null,
      "outputs": []
    },
    {
      "cell_type": "code",
      "metadata": {
        "id": "57NBi_kRYyjw"
      },
      "source": [
        "def display_decision_surface(clf,X, y): # clf, X, y를 입력으로 받는 display_decision_surface 함수 정의\n",
        "    \n",
        "    # 챠트의 범위가 모든 학습 데이터를 포함하도록 설정\n",
        "    x_min = X.longitude.min() - 0.01 # X의 longitude 데이터 최소값에서 0.01을 빼고 x_min에 대입하여 선언\n",
        "    x_max = X.longitude.max() + 0.01 # X의 longitude 데이터 최대값에서 0.01을 더하고 x_max에 대입하여 선언\n",
        "    y_min = X.latitude.min() - 0.01 # X의 latitude 데이터 최소값에서 0.01을 빼고 y_min에 대입하여 선언 \n",
        "    y_max = X.latitude.max() + 0.01 # X의 latitude 데이터 최대값에서 0.01을 더하고 y_max에 대입하여 선언 \n",
        "    \n",
        "    # 파라미터 설정\n",
        "    n_classes = len(le.classes_) # le_classes_의 길이를 n_classes에 대입하여 선언\n",
        "    plot_colors = \"rywb\" # plot_color에 문자열 \"rywb\"를 대입하여 선언\n",
        "    plot_step = 0.001 # plot_step에 0.001을 대입하여 선언\n",
        "\n",
        "    xx, yy = np.meshgrid(np.arange(x_min, x_max, plot_step), # (x_min, x_max), (y_min, y_max) 번위를 갖는 meshgrid를 xx, yy에 대입하여 선언\n",
        "                        np.arange(y_min, y_max, plot_step)) \n",
        "    \n",
        "    Z = clf.predict(np.c_[xx.ravel(), yy.ravel()]) # clf 모델을 통해 label 예측\n",
        "    Z = Z.reshape(xx.shape) # xx의 형태로 Z값 reshape\n",
        "    cs = plt.contourf(xx, yy, Z, cmap=plt.cm.RdYlBu) # matplotlib contourf을 사용하여 예측 결과 시각화 cmap: colormap 설정\n",
        "\n",
        "    # 학습 데이터를 챠트에 표시\n",
        "    for i, color in zip(range(n_classes), plot_colors): #i에는 class_num의 범위만큼, color에는 plot_colors('rywb')를 차례로 대입하면서 반복\n",
        "        idx = np.where(y == i) # y와 i의 값이 같은 index를 idx에 대입하여 선언\n",
        "        plt.scatter(X.loc[idx].longitude, # X[idx]의 longitude, latitude 데이터로 scatter plot 생성\n",
        "                    X.loc[idx].latitude, \n",
        "                    c=color,  # color 설정\n",
        "                    label=le.classes_[i], # label은 le_classes_[i]로 설정\n",
        "                    cmap=plt.cm.RdYlBu, edgecolor='black', s=200) # cmap: colormap 설정, edgecolor: pointer edge color, s: marker size\n",
        "\n",
        "    \n",
        "    plt.title(\"Decision surface of a decision tree\",fontsize=16) # 챠트 제목 설정, fontsize=16 설정\n",
        "    # 챠트 기호 설명\n",
        "    plt.legend(bbox_to_anchor=(1.05, 1), loc=2, borderaxespad=0., fontsize=14) # 범주 박스 위치 설정 /  bbox_to_achor: bbox 좌표 설정, loc: 위치 설정, borderaxespad: legend와 axes사이의 패딩 설정 , fontsize: 폰트 사이즈\n",
        "    plt.xlabel('longitude',fontsize=16) # x축의 이름과 폰트 크기 설정\n",
        "    plt.ylabel('latitude',fontsize=16)  # y축의 이름과 폰트 크기 설정\n",
        "    plt.rcParams[\"figure.figsize\"] = [7,5] # 챠트 크기 설정\n",
        "    plt.rcParams[\"font.size\"] = 14   # 챠트 폰트 크기 설정\n",
        "    plt.rcParams[\"xtick.labelsize\"] = 14 # x축 좌표상의 폰트 크기 설정\n",
        "    plt.rcParams[\"ytick.labelsize\"] = 14 # y축 좌표상의 폰트 크기 설정\n",
        "    plt.show()  # 챠트 그리기"
      ],
      "execution_count": null,
      "outputs": []
    },
    {
      "cell_type": "markdown",
      "metadata": {
        "id": "ZOwB8zpuYyjy"
      },
      "source": [
        "**파라미터 없이 학습하기**"
      ]
    },
    {
      "cell_type": "code",
      "metadata": {
        "id": "LNa5yOdLYyjz"
      },
      "source": [
        "le = preprocessing.LabelEncoder() # preprocessing LabelEncoder를 선언하여 le에 대입\n",
        "y_encoded = le.fit_transform(y_train) # 카테고리형 자료를 숫자로 변경\n",
        "\n",
        "clf = tree.DecisionTreeClassifier(random_state=35).fit(X_train, y_encoded) # random_state를 35로 설정, 입력데이터:X_train, 타겟데이터:y_encoded로 Decision Tree를 학습한 후 학습된 모델을 clf에 대입하여 선언\n",
        "display_decision_surface(clf, X_train, y_encoded) # display_deicsion_surface 함수 호출"
      ],
      "execution_count": null,
      "outputs": []
    },
    {
      "cell_type": "markdown",
      "metadata": {
        "id": "QlYlHYWrYyj1"
      },
      "source": [
        "**파라미터를 설정하여 학습하기**"
      ]
    },
    {
      "cell_type": "code",
      "metadata": {
        "id": "gnrxBJ_9Yyj1"
      },
      "source": [
        "clf = tree.DecisionTreeClassifier(max_depth=4,          #max_depth : 트리의 최대 한도 깊이  \n",
        "                                  min_samples_split=2,  #min_samples_split : 자식 노드를 갖기 위한 최소한의 데이터 갯수  \n",
        "                                  min_samples_leaf=2,   #mins_samples_leaf : 맨 마지막 끝 노드의 최소 데이터 갯수  \n",
        "                                  random_state=70).fit(X_train, y_encoded.ravel()) #random_state : 여러번 실행해도, 파라미터가 같을 경우, 결과가 항상 같게 만들어주는 파라미터 \n",
        "display_decision_surface(clf,X_train, y_encoded) # display_deicsion_surface 함수 호출"
      ],
      "execution_count": null,
      "outputs": []
    },
    {
      "cell_type": "markdown",
      "metadata": {
        "id": "sdbIS6IoYyj5"
      },
      "source": [
        "**의사결정트리 시각화**"
      ]
    },
    {
      "cell_type": "code",
      "metadata": {
        "id": "r3xXDm5ZYyj6",
        "colab": {
          "base_uri": "https://localhost:8080/",
          "height": 756
        },
        "outputId": "6ff5b8c1-84cc-4388-beea-876caee6e013"
      },
      "source": [
        "import graphviz\n",
        "\n",
        "dot_data = tree.export_graphviz(clf, out_file=None, # graphviz을 사용하여 clf 트리 시각화\n",
        "                                feature_names=['longitude','latitude'],  # feature name 설정\n",
        "                                class_names=['Gangbuk', 'Gangdong',  # class name 설정\n",
        "                                             'Gangnam', 'Gangseo'],\n",
        "                                filled=True, rounded=True)  # filled: 노드 클래스를 색으로 구분, rounded: 노드 상자의 모서리를 둥글게 설정\n",
        "graph = graphviz.Source(dot_data) # dot_data로 그래프 생성하여 graph에 대입하여 선언\n",
        "graph\n",
        "\n",
        "# gini : 불순도 척도. 0일 경우, 모든 샘플이 하나의 분류값을 갖으며, 0이 아닐 경우, 1에 가까울수록, 여러 분류값이 한 노드에 존재합니다.  \n",
        "# samples : 노드 안에 들어 있는 데이터의 갯수  \n",
        "# value : 분류값 별 데이터의 갯수   \n",
        "# class :  분류값"
      ],
      "execution_count": null,
      "outputs": [
        {
          "output_type": "execute_result",
          "data": {
            "text/plain": [
              "<graphviz.files.Source at 0x7fa3c06c3f90>"
            ],
            "image/svg+xml": "<?xml version=\"1.0\" encoding=\"UTF-8\" standalone=\"no\"?>\n<!DOCTYPE svg PUBLIC \"-//W3C//DTD SVG 1.1//EN\"\n \"http://www.w3.org/Graphics/SVG/1.1/DTD/svg11.dtd\">\n<!-- Generated by graphviz version 2.40.1 (20161225.0304)\n -->\n<!-- Title: Tree Pages: 1 -->\n<svg width=\"444pt\" height=\"552pt\"\n viewBox=\"0.00 0.00 444.00 552.00\" xmlns=\"http://www.w3.org/2000/svg\" xmlns:xlink=\"http://www.w3.org/1999/xlink\">\n<g id=\"graph0\" class=\"graph\" transform=\"scale(1 1) rotate(0) translate(4 548)\">\n<title>Tree</title>\n<polygon fill=\"#ffffff\" stroke=\"transparent\" points=\"-4,4 -4,-548 440,-548 440,4 -4,4\"/>\n<!-- 0 -->\n<g id=\"node1\" class=\"node\">\n<title>0</title>\n<path fill=\"transparent\" stroke=\"#000000\" d=\"M205,-544C205,-544 76,-544 76,-544 70,-544 64,-538 64,-532 64,-532 64,-473 64,-473 64,-467 70,-461 76,-461 76,-461 205,-461 205,-461 211,-461 217,-467 217,-473 217,-473 217,-532 217,-532 217,-538 211,-544 205,-544\"/>\n<text text-anchor=\"middle\" x=\"140.5\" y=\"-528.8\" font-family=\"Helvetica,sans-Serif\" font-size=\"14.00\" fill=\"#000000\">longitude &lt;= 126.912</text>\n<text text-anchor=\"middle\" x=\"140.5\" y=\"-513.8\" font-family=\"Helvetica,sans-Serif\" font-size=\"14.00\" fill=\"#000000\">gini = 0.75</text>\n<text text-anchor=\"middle\" x=\"140.5\" y=\"-498.8\" font-family=\"Helvetica,sans-Serif\" font-size=\"14.00\" fill=\"#000000\">samples = 20</text>\n<text text-anchor=\"middle\" x=\"140.5\" y=\"-483.8\" font-family=\"Helvetica,sans-Serif\" font-size=\"14.00\" fill=\"#000000\">value = [5, 5, 5, 5]</text>\n<text text-anchor=\"middle\" x=\"140.5\" y=\"-468.8\" font-family=\"Helvetica,sans-Serif\" font-size=\"14.00\" fill=\"#000000\">class = Gangbuk</text>\n</g>\n<!-- 1 -->\n<g id=\"node2\" class=\"node\">\n<title>1</title>\n<path fill=\"#d739e5\" stroke=\"#000000\" d=\"M119,-417.5C119,-417.5 12,-417.5 12,-417.5 6,-417.5 0,-411.5 0,-405.5 0,-405.5 0,-361.5 0,-361.5 0,-355.5 6,-349.5 12,-349.5 12,-349.5 119,-349.5 119,-349.5 125,-349.5 131,-355.5 131,-361.5 131,-361.5 131,-405.5 131,-405.5 131,-411.5 125,-417.5 119,-417.5\"/>\n<text text-anchor=\"middle\" x=\"65.5\" y=\"-402.3\" font-family=\"Helvetica,sans-Serif\" font-size=\"14.00\" fill=\"#000000\">gini = 0.0</text>\n<text text-anchor=\"middle\" x=\"65.5\" y=\"-387.3\" font-family=\"Helvetica,sans-Serif\" font-size=\"14.00\" fill=\"#000000\">samples = 5</text>\n<text text-anchor=\"middle\" x=\"65.5\" y=\"-372.3\" font-family=\"Helvetica,sans-Serif\" font-size=\"14.00\" fill=\"#000000\">value = [0, 0, 0, 5]</text>\n<text text-anchor=\"middle\" x=\"65.5\" y=\"-357.3\" font-family=\"Helvetica,sans-Serif\" font-size=\"14.00\" fill=\"#000000\">class = Gangseo</text>\n</g>\n<!-- 0&#45;&gt;1 -->\n<g id=\"edge1\" class=\"edge\">\n<title>0&#45;&gt;1</title>\n<path fill=\"none\" stroke=\"#000000\" d=\"M114.2686,-460.8796C107.269,-449.7735 99.692,-437.7513 92.6444,-426.5691\"/>\n<polygon fill=\"#000000\" stroke=\"#000000\" points=\"95.42,-424.4087 87.1271,-417.8149 89.498,-428.1411 95.42,-424.4087\"/>\n<text text-anchor=\"middle\" x=\"81.5974\" y=\"-438.4957\" font-family=\"Helvetica,sans-Serif\" font-size=\"14.00\" fill=\"#000000\">True</text>\n</g>\n<!-- 2 -->\n<g id=\"node3\" class=\"node\">\n<title>2</title>\n<path fill=\"transparent\" stroke=\"#000000\" d=\"M269.5,-425C269.5,-425 161.5,-425 161.5,-425 155.5,-425 149.5,-419 149.5,-413 149.5,-413 149.5,-354 149.5,-354 149.5,-348 155.5,-342 161.5,-342 161.5,-342 269.5,-342 269.5,-342 275.5,-342 281.5,-348 281.5,-354 281.5,-354 281.5,-413 281.5,-413 281.5,-419 275.5,-425 269.5,-425\"/>\n<text text-anchor=\"middle\" x=\"215.5\" y=\"-409.8\" font-family=\"Helvetica,sans-Serif\" font-size=\"14.00\" fill=\"#000000\">latitude &lt;= 37.525</text>\n<text text-anchor=\"middle\" x=\"215.5\" y=\"-394.8\" font-family=\"Helvetica,sans-Serif\" font-size=\"14.00\" fill=\"#000000\">gini = 0.667</text>\n<text text-anchor=\"middle\" x=\"215.5\" y=\"-379.8\" font-family=\"Helvetica,sans-Serif\" font-size=\"14.00\" fill=\"#000000\">samples = 15</text>\n<text text-anchor=\"middle\" x=\"215.5\" y=\"-364.8\" font-family=\"Helvetica,sans-Serif\" font-size=\"14.00\" fill=\"#000000\">value = [5, 5, 5, 0]</text>\n<text text-anchor=\"middle\" x=\"215.5\" y=\"-349.8\" font-family=\"Helvetica,sans-Serif\" font-size=\"14.00\" fill=\"#000000\">class = Gangbuk</text>\n</g>\n<!-- 0&#45;&gt;2 -->\n<g id=\"edge2\" class=\"edge\">\n<title>0&#45;&gt;2</title>\n<path fill=\"none\" stroke=\"#000000\" d=\"M166.7314,-460.8796C172.2373,-452.1434 178.1006,-442.8404 183.7824,-433.8253\"/>\n<polygon fill=\"#000000\" stroke=\"#000000\" points=\"186.7857,-435.6242 189.1567,-425.2981 180.8637,-431.8919 186.7857,-435.6242\"/>\n<text text-anchor=\"middle\" x=\"194.6863\" y=\"-445.9789\" font-family=\"Helvetica,sans-Serif\" font-size=\"14.00\" fill=\"#000000\">False</text>\n</g>\n<!-- 3 -->\n<g id=\"node4\" class=\"node\">\n<title>3</title>\n<path fill=\"#399de5\" stroke=\"#000000\" d=\"M194,-298.5C194,-298.5 87,-298.5 87,-298.5 81,-298.5 75,-292.5 75,-286.5 75,-286.5 75,-242.5 75,-242.5 75,-236.5 81,-230.5 87,-230.5 87,-230.5 194,-230.5 194,-230.5 200,-230.5 206,-236.5 206,-242.5 206,-242.5 206,-286.5 206,-286.5 206,-292.5 200,-298.5 194,-298.5\"/>\n<text text-anchor=\"middle\" x=\"140.5\" y=\"-283.3\" font-family=\"Helvetica,sans-Serif\" font-size=\"14.00\" fill=\"#000000\">gini = 0.0</text>\n<text text-anchor=\"middle\" x=\"140.5\" y=\"-268.3\" font-family=\"Helvetica,sans-Serif\" font-size=\"14.00\" fill=\"#000000\">samples = 5</text>\n<text text-anchor=\"middle\" x=\"140.5\" y=\"-253.3\" font-family=\"Helvetica,sans-Serif\" font-size=\"14.00\" fill=\"#000000\">value = [0, 0, 5, 0]</text>\n<text text-anchor=\"middle\" x=\"140.5\" y=\"-238.3\" font-family=\"Helvetica,sans-Serif\" font-size=\"14.00\" fill=\"#000000\">class = Gangnam</text>\n</g>\n<!-- 2&#45;&gt;3 -->\n<g id=\"edge3\" class=\"edge\">\n<title>2&#45;&gt;3</title>\n<path fill=\"none\" stroke=\"#000000\" d=\"M189.2686,-341.8796C182.269,-330.7735 174.692,-318.7513 167.6444,-307.5691\"/>\n<polygon fill=\"#000000\" stroke=\"#000000\" points=\"170.42,-305.4087 162.1271,-298.8149 164.498,-309.1411 170.42,-305.4087\"/>\n</g>\n<!-- 4 -->\n<g id=\"node5\" class=\"node\">\n<title>4</title>\n<path fill=\"transparent\" stroke=\"#000000\" d=\"M344.5,-306C344.5,-306 236.5,-306 236.5,-306 230.5,-306 224.5,-300 224.5,-294 224.5,-294 224.5,-235 224.5,-235 224.5,-229 230.5,-223 236.5,-223 236.5,-223 344.5,-223 344.5,-223 350.5,-223 356.5,-229 356.5,-235 356.5,-235 356.5,-294 356.5,-294 356.5,-300 350.5,-306 344.5,-306\"/>\n<text text-anchor=\"middle\" x=\"290.5\" y=\"-290.8\" font-family=\"Helvetica,sans-Serif\" font-size=\"14.00\" fill=\"#000000\">latitude &lt;= 37.599</text>\n<text text-anchor=\"middle\" x=\"290.5\" y=\"-275.8\" font-family=\"Helvetica,sans-Serif\" font-size=\"14.00\" fill=\"#000000\">gini = 0.5</text>\n<text text-anchor=\"middle\" x=\"290.5\" y=\"-260.8\" font-family=\"Helvetica,sans-Serif\" font-size=\"14.00\" fill=\"#000000\">samples = 10</text>\n<text text-anchor=\"middle\" x=\"290.5\" y=\"-245.8\" font-family=\"Helvetica,sans-Serif\" font-size=\"14.00\" fill=\"#000000\">value = [5, 5, 0, 0]</text>\n<text text-anchor=\"middle\" x=\"290.5\" y=\"-230.8\" font-family=\"Helvetica,sans-Serif\" font-size=\"14.00\" fill=\"#000000\">class = Gangbuk</text>\n</g>\n<!-- 2&#45;&gt;4 -->\n<g id=\"edge4\" class=\"edge\">\n<title>2&#45;&gt;4</title>\n<path fill=\"none\" stroke=\"#000000\" d=\"M241.7314,-341.8796C247.2373,-333.1434 253.1006,-323.8404 258.7824,-314.8253\"/>\n<polygon fill=\"#000000\" stroke=\"#000000\" points=\"261.7857,-316.6242 264.1567,-306.2981 255.8637,-312.8919 261.7857,-316.6242\"/>\n</g>\n<!-- 5 -->\n<g id=\"node6\" class=\"node\">\n<title>5</title>\n<path fill=\"#47e539\" fill-opacity=\"0.600000\" stroke=\"#000000\" d=\"M275,-187C275,-187 146,-187 146,-187 140,-187 134,-181 134,-175 134,-175 134,-116 134,-116 134,-110 140,-104 146,-104 146,-104 275,-104 275,-104 281,-104 287,-110 287,-116 287,-116 287,-175 287,-175 287,-181 281,-187 275,-187\"/>\n<text text-anchor=\"middle\" x=\"210.5\" y=\"-171.8\" font-family=\"Helvetica,sans-Serif\" font-size=\"14.00\" fill=\"#000000\">longitude &lt;= 127.017</text>\n<text text-anchor=\"middle\" x=\"210.5\" y=\"-156.8\" font-family=\"Helvetica,sans-Serif\" font-size=\"14.00\" fill=\"#000000\">gini = 0.408</text>\n<text text-anchor=\"middle\" x=\"210.5\" y=\"-141.8\" font-family=\"Helvetica,sans-Serif\" font-size=\"14.00\" fill=\"#000000\">samples = 7</text>\n<text text-anchor=\"middle\" x=\"210.5\" y=\"-126.8\" font-family=\"Helvetica,sans-Serif\" font-size=\"14.00\" fill=\"#000000\">value = [2, 5, 0, 0]</text>\n<text text-anchor=\"middle\" x=\"210.5\" y=\"-111.8\" font-family=\"Helvetica,sans-Serif\" font-size=\"14.00\" fill=\"#000000\">class = Gangdong</text>\n</g>\n<!-- 4&#45;&gt;5 -->\n<g id=\"edge5\" class=\"edge\">\n<title>4&#45;&gt;5</title>\n<path fill=\"none\" stroke=\"#000000\" d=\"M262.5199,-222.8796C256.6469,-214.1434 250.3927,-204.8404 244.3321,-195.8253\"/>\n<polygon fill=\"#000000\" stroke=\"#000000\" points=\"247.0834,-193.6444 238.5995,-187.2981 241.2741,-197.5498 247.0834,-193.6444\"/>\n</g>\n<!-- 8 -->\n<g id=\"node9\" class=\"node\">\n<title>8</title>\n<path fill=\"#e58139\" stroke=\"#000000\" d=\"M424,-179.5C424,-179.5 317,-179.5 317,-179.5 311,-179.5 305,-173.5 305,-167.5 305,-167.5 305,-123.5 305,-123.5 305,-117.5 311,-111.5 317,-111.5 317,-111.5 424,-111.5 424,-111.5 430,-111.5 436,-117.5 436,-123.5 436,-123.5 436,-167.5 436,-167.5 436,-173.5 430,-179.5 424,-179.5\"/>\n<text text-anchor=\"middle\" x=\"370.5\" y=\"-164.3\" font-family=\"Helvetica,sans-Serif\" font-size=\"14.00\" fill=\"#000000\">gini = 0.0</text>\n<text text-anchor=\"middle\" x=\"370.5\" y=\"-149.3\" font-family=\"Helvetica,sans-Serif\" font-size=\"14.00\" fill=\"#000000\">samples = 3</text>\n<text text-anchor=\"middle\" x=\"370.5\" y=\"-134.3\" font-family=\"Helvetica,sans-Serif\" font-size=\"14.00\" fill=\"#000000\">value = [3, 0, 0, 0]</text>\n<text text-anchor=\"middle\" x=\"370.5\" y=\"-119.3\" font-family=\"Helvetica,sans-Serif\" font-size=\"14.00\" fill=\"#000000\">class = Gangbuk</text>\n</g>\n<!-- 4&#45;&gt;8 -->\n<g id=\"edge8\" class=\"edge\">\n<title>4&#45;&gt;8</title>\n<path fill=\"none\" stroke=\"#000000\" d=\"M318.4801,-222.8796C326.0203,-211.6636 334.1887,-199.5131 341.7691,-188.2372\"/>\n<polygon fill=\"#000000\" stroke=\"#000000\" points=\"344.7566,-190.0667 347.4311,-179.8149 338.9473,-186.1612 344.7566,-190.0667\"/>\n</g>\n<!-- 6 -->\n<g id=\"node7\" class=\"node\">\n<title>6</title>\n<path fill=\"#e58139\" stroke=\"#000000\" d=\"M189,-68C189,-68 82,-68 82,-68 76,-68 70,-62 70,-56 70,-56 70,-12 70,-12 70,-6 76,0 82,0 82,0 189,0 189,0 195,0 201,-6 201,-12 201,-12 201,-56 201,-56 201,-62 195,-68 189,-68\"/>\n<text text-anchor=\"middle\" x=\"135.5\" y=\"-52.8\" font-family=\"Helvetica,sans-Serif\" font-size=\"14.00\" fill=\"#000000\">gini = 0.0</text>\n<text text-anchor=\"middle\" x=\"135.5\" y=\"-37.8\" font-family=\"Helvetica,sans-Serif\" font-size=\"14.00\" fill=\"#000000\">samples = 2</text>\n<text text-anchor=\"middle\" x=\"135.5\" y=\"-22.8\" font-family=\"Helvetica,sans-Serif\" font-size=\"14.00\" fill=\"#000000\">value = [2, 0, 0, 0]</text>\n<text text-anchor=\"middle\" x=\"135.5\" y=\"-7.8\" font-family=\"Helvetica,sans-Serif\" font-size=\"14.00\" fill=\"#000000\">class = Gangbuk</text>\n</g>\n<!-- 5&#45;&gt;6 -->\n<g id=\"edge6\" class=\"edge\">\n<title>5&#45;&gt;6</title>\n<path fill=\"none\" stroke=\"#000000\" d=\"M182.5728,-103.9815C176.5762,-95.0666 170.2296,-85.6313 164.2041,-76.6734\"/>\n<polygon fill=\"#000000\" stroke=\"#000000\" points=\"167.0328,-74.6078 158.5473,-68.2637 161.2245,-78.5147 167.0328,-74.6078\"/>\n</g>\n<!-- 7 -->\n<g id=\"node8\" class=\"node\">\n<title>7</title>\n<path fill=\"#47e539\" stroke=\"#000000\" d=\"M342,-68C342,-68 231,-68 231,-68 225,-68 219,-62 219,-56 219,-56 219,-12 219,-12 219,-6 225,0 231,0 231,0 342,0 342,0 348,0 354,-6 354,-12 354,-12 354,-56 354,-56 354,-62 348,-68 342,-68\"/>\n<text text-anchor=\"middle\" x=\"286.5\" y=\"-52.8\" font-family=\"Helvetica,sans-Serif\" font-size=\"14.00\" fill=\"#000000\">gini = 0.0</text>\n<text text-anchor=\"middle\" x=\"286.5\" y=\"-37.8\" font-family=\"Helvetica,sans-Serif\" font-size=\"14.00\" fill=\"#000000\">samples = 5</text>\n<text text-anchor=\"middle\" x=\"286.5\" y=\"-22.8\" font-family=\"Helvetica,sans-Serif\" font-size=\"14.00\" fill=\"#000000\">value = [0, 5, 0, 0]</text>\n<text text-anchor=\"middle\" x=\"286.5\" y=\"-7.8\" font-family=\"Helvetica,sans-Serif\" font-size=\"14.00\" fill=\"#000000\">class = Gangdong</text>\n</g>\n<!-- 5&#45;&gt;7 -->\n<g id=\"edge7\" class=\"edge\">\n<title>5&#45;&gt;7</title>\n<path fill=\"none\" stroke=\"#000000\" d=\"M238.7996,-103.9815C244.8762,-95.0666 251.3074,-85.6313 257.4132,-76.6734\"/>\n<polygon fill=\"#000000\" stroke=\"#000000\" points=\"260.4052,-78.498 263.1454,-68.2637 254.6211,-74.5555 260.4052,-78.498\"/>\n</g>\n</g>\n</svg>\n"
          },
          "metadata": {
            "tags": []
          },
          "execution_count": 13
        }
      ]
    },
    {
      "cell_type": "markdown",
      "metadata": {
        "id": "cKZdUI8cYyj8"
      },
      "source": [
        "**테스트**"
      ]
    },
    {
      "cell_type": "code",
      "metadata": {
        "id": "V-DD6Y6XYyj9"
      },
      "source": [
        "from sklearn.metrics import accuracy_score\n",
        "pred = clf.predict(X_test) # X_test 데이터를 clf 모델의 입력으로 사용하여 정답 예측"
      ],
      "execution_count": null,
      "outputs": []
    },
    {
      "cell_type": "code",
      "metadata": {
        "id": "FL_DeYEdYyj_"
      },
      "source": [
        "print(\"accuracy : \" + str( accuracy_score(y_test.values.ravel(), # y_test value와 le.classes_[pred]를 통해 accuracy를 계산하고 이를 출력\n",
        "                                          le.classes_[pred])) )\n",
        "comparison = pd.DataFrame({'prediction':le.classes_[pred], # le.classes_[pred]와 y_test를 pandas DataFrame으로 생성 후 comparison에 대입하여 선언\n",
        "                           'ground_truth':y_test.values.ravel()}) \n",
        "comparison"
      ],
      "execution_count": null,
      "outputs": []
    },
    {
      "cell_type": "markdown",
      "metadata": {
        "id": "ZWepqap83k1O"
      },
      "source": [
        "# **가우시안 나이브 베이즈 분류** "
      ]
    },
    {
      "cell_type": "markdown",
      "metadata": {
        "id": "wlTXBs0n3h_T"
      },
      "source": [
        "**필요한 라이브러리 import**"
      ]
    },
    {
      "cell_type": "code",
      "metadata": {
        "id": "_TTRDT9o3XLs"
      },
      "source": [
        "# 시각화를 위해 pandas를 임포트합니다\n",
        "import pandas as pd\n",
        "# iris 데이터는 sklearn에서 직접 로드할 수 있습니다\n",
        "from sklearn.datasets import load_iris\n",
        "# sklearn의 train_test_split을 사용하면 라인 한줄로 손쉽게 데이터를 나눌 수 있습니다\n",
        "from sklearn.model_selection import train_test_split\n",
        "# Gaussian Naive Bayes로 iris 데이터를 분류하도록 하겠습니다\n",
        "from sklearn.naive_bayes import GaussianNB\n",
        "# 분류 성능을 측정하기 위해 metrics와 accuracy_score를 임포트합니다\n",
        "from sklearn import metrics\n",
        "from sklearn.metrics import accuracy_score"
      ],
      "execution_count": null,
      "outputs": []
    },
    {
      "cell_type": "markdown",
      "metadata": {
        "id": "Au_eBcpW3fUE"
      },
      "source": [
        "**데이터 획득 및 탐색**"
      ]
    },
    {
      "cell_type": "code",
      "metadata": {
        "id": "VYslXthb3Zxh",
        "colab": {
          "base_uri": "https://localhost:8080/",
          "height": 204
        },
        "outputId": "bda6386d-f2d8-4daf-badd-538e11a6f69b"
      },
      "source": [
        "dataset = load_iris() # iris 데이터를 불러옵니다\n",
        "df = pd.DataFrame(dataset.data, columns=dataset.feature_names) # pandas의 데이터프레임으로 데이터를 저장합니다\n",
        "df['target'] = dataset.target # 데이터셋의 타겟 데이터를 데이터프레임에 저장합니다\n",
        "df.target = df.target.map({0:\"setosa\", 1:\"versicolor\", 2:\"virginica\"}) # df의 타겟 데이터를 숫자에서 문자로 mapping\n",
        "df.head() # df 데이터의 상위 5개 데이터 반환"
      ],
      "execution_count": null,
      "outputs": [
        {
          "output_type": "execute_result",
          "data": {
            "text/plain": [
              "   sepal length (cm)  sepal width (cm)  petal length (cm)  petal width (cm)  \\\n",
              "0                5.1               3.5                1.4               0.2   \n",
              "1                4.9               3.0                1.4               0.2   \n",
              "2                4.7               3.2                1.3               0.2   \n",
              "3                4.6               3.1                1.5               0.2   \n",
              "4                5.0               3.6                1.4               0.2   \n",
              "\n",
              "   target  \n",
              "0  setosa  \n",
              "1  setosa  \n",
              "2  setosa  \n",
              "3  setosa  \n",
              "4  setosa  "
            ],
            "text/html": [
              "<div>\n",
              "<style scoped>\n",
              "    .dataframe tbody tr th:only-of-type {\n",
              "        vertical-align: middle;\n",
              "    }\n",
              "\n",
              "    .dataframe tbody tr th {\n",
              "        vertical-align: top;\n",
              "    }\n",
              "\n",
              "    .dataframe thead th {\n",
              "        text-align: right;\n",
              "    }\n",
              "</style>\n",
              "<table border=\"1\" class=\"dataframe\">\n",
              "  <thead>\n",
              "    <tr style=\"text-align: right;\">\n",
              "      <th></th>\n",
              "      <th>sepal length (cm)</th>\n",
              "      <th>sepal width (cm)</th>\n",
              "      <th>petal length (cm)</th>\n",
              "      <th>petal width (cm)</th>\n",
              "      <th>target</th>\n",
              "    </tr>\n",
              "  </thead>\n",
              "  <tbody>\n",
              "    <tr>\n",
              "      <th>0</th>\n",
              "      <td>5.1</td>\n",
              "      <td>3.5</td>\n",
              "      <td>1.4</td>\n",
              "      <td>0.2</td>\n",
              "      <td>setosa</td>\n",
              "    </tr>\n",
              "    <tr>\n",
              "      <th>1</th>\n",
              "      <td>4.9</td>\n",
              "      <td>3.0</td>\n",
              "      <td>1.4</td>\n",
              "      <td>0.2</td>\n",
              "      <td>setosa</td>\n",
              "    </tr>\n",
              "    <tr>\n",
              "      <th>2</th>\n",
              "      <td>4.7</td>\n",
              "      <td>3.2</td>\n",
              "      <td>1.3</td>\n",
              "      <td>0.2</td>\n",
              "      <td>setosa</td>\n",
              "    </tr>\n",
              "    <tr>\n",
              "      <th>3</th>\n",
              "      <td>4.6</td>\n",
              "      <td>3.1</td>\n",
              "      <td>1.5</td>\n",
              "      <td>0.2</td>\n",
              "      <td>setosa</td>\n",
              "    </tr>\n",
              "    <tr>\n",
              "      <th>4</th>\n",
              "      <td>5.0</td>\n",
              "      <td>3.6</td>\n",
              "      <td>1.4</td>\n",
              "      <td>0.2</td>\n",
              "      <td>setosa</td>\n",
              "    </tr>\n",
              "  </tbody>\n",
              "</table>\n",
              "</div>"
            ]
          },
          "metadata": {
            "tags": []
          },
          "execution_count": 19
        }
      ]
    },
    {
      "cell_type": "code",
      "metadata": {
        "id": "CVkjUsK73rxt",
        "colab": {
          "base_uri": "https://localhost:8080/",
          "height": 92
        },
        "outputId": "7ed6beae-4654-46d5-dc82-908ebcd2be47"
      },
      "source": [
        "df.target.value_counts() # df target 데이터 집계하여 출력"
      ],
      "execution_count": null,
      "outputs": [
        {
          "output_type": "execute_result",
          "data": {
            "text/plain": [
              "setosa        50\n",
              "versicolor    50\n",
              "virginica     50\n",
              "Name: target, dtype: int64"
            ]
          },
          "metadata": {
            "tags": []
          },
          "execution_count": 18
        }
      ]
    },
    {
      "cell_type": "markdown",
      "metadata": {
        "id": "c3q0aX7w6M1k"
      },
      "source": [
        "**iris 데이터 시각화**"
      ]
    },
    {
      "cell_type": "code",
      "metadata": {
        "id": "MIh2BJ4h3rtB"
      },
      "source": [
        "# 분류값 별로 데이터프레임을 나눕니다\n",
        "setosa_df = df[df.target == \"setosa\"] # df 타겟 데이터 \"setosa\"를 setosa_df에 대입하여 선언\n",
        "versicolor_df = df[df.target == \"versicolor\"] # df 타겟 데이터 \"versicolor\"를 versicolor_df에 대입하여 선언\n",
        "virginica_df = df[df.target == \"virginica\"] # df 타겟 데이터 \"virginica\"를 virginica_df에 대입하여 선언"
      ],
      "execution_count": null,
      "outputs": []
    },
    {
      "cell_type": "code",
      "metadata": {
        "id": "535iG4_14Y1M",
        "colab": {
          "base_uri": "https://localhost:8080/",
          "height": 299
        },
        "outputId": "2f7e4a78-e056-46c8-d7cc-50fd226faf56"
      },
      "source": [
        "ax = setosa_df['sepal length (cm)'].plot(kind='hist') # setosa_df sepal length (cm) 데이터로 히스토그램 그래프 생성 및 ax에 대입하여 선언\n",
        "setosa_df['sepal length (cm)'].plot(kind='kde', # setosa_df sepal length (cm) 데이터로 커널 밀도 추정(kde) 그래프와 ax 그래프를 함께 생성\n",
        "                                    ax=ax, \n",
        "                                    secondary_y=True, # second y축 설정\n",
        "                                    title=\"setosa sepal length\", # title 설정\n",
        "                                    figsize = (8,4)) # figure size 설정"
      ],
      "execution_count": null,
      "outputs": [
        {
          "output_type": "execute_result",
          "data": {
            "text/plain": [
              "<matplotlib.axes._subplots.AxesSubplot at 0x7fdefc9cd490>"
            ]
          },
          "metadata": {
            "tags": []
          },
          "execution_count": 23
        },
        {
          "output_type": "display_data",
          "data": {
            "image/png": "[encoded data removed]",
            "text/plain": [
              "<Figure size 576x288 with 2 Axes>"
            ]
          },
          "metadata": {
            "tags": [],
            "needs_background": "light"
          }
        }
      ]
    },
    {
      "cell_type": "code",
      "metadata": {
        "id": "l54eDSty4x7m",
        "colab": {
          "base_uri": "https://localhost:8080/",
          "height": 308
        },
        "outputId": "d12e10b0-b11a-475b-9092-0c23c0de04bb"
      },
      "source": [
        "ax = versicolor_df['sepal length (cm)'].plot(kind='hist') # versicolor_df sepal length (cm) 데이터로 히스토그램 그래프 생성 및 ax에 대입하여 선언\n",
        "versicolor_df['sepal length (cm)'].plot(kind='kde', # versicolor_df sepal length (cm) 데이터로 커널 밀도 추정(kde) 그래프와 ax 그래프를 함께 생성\n",
        "                                        ax=ax, \n",
        "                                        secondary_y=True, # second y축 설정\n",
        "                                        title=\"versicolor sepal length\", # title 설정\n",
        "                                        figsize = (8,4)) # figure size 설정"
      ],
      "execution_count": null,
      "outputs": [
        {
          "output_type": "execute_result",
          "data": {
            "text/plain": [
              "<matplotlib.axes._subplots.AxesSubplot at 0x7fa3bffc85d0>"
            ]
          },
          "metadata": {
            "tags": []
          },
          "execution_count": 21
        },
        {
          "output_type": "display_data",
          "data": {
            "image/png": "[encoded data removed]",
            "text/plain": [
              "<Figure size 576x288 with 2 Axes>"
            ]
          },
          "metadata": {
            "tags": [],
            "needs_background": "light"
          }
        }
      ]
    },
    {
      "cell_type": "code",
      "metadata": {
        "id": "G5O1WBLA42Bd",
        "colab": {
          "base_uri": "https://localhost:8080/",
          "height": 308
        },
        "outputId": "dbd4ad79-15b3-4a5d-9c9d-4daf58734c08"
      },
      "source": [
        "ax = virginica_df['sepal length (cm)'].plot(kind='hist') # virginica_df sepal length (cm) 데이터로 히스토그램 그래프 생성 및 ax에 대입하여 선언\n",
        "virginica_df['sepal length (cm)'].plot(kind='kde', # virginica_df sepal length (cm) 데이터로 커널 밀도 추정(kde) 그래프와 ax 그래프를 함께 생성\n",
        "                                       ax=ax, \n",
        "                                       secondary_y=True, # second y축 설정\n",
        "                                       title=\"virginica sepal length\", # title 설정\n",
        "                                       figsize = (8,4)) # figure size 설정"
      ],
      "execution_count": null,
      "outputs": [
        {
          "output_type": "execute_result",
          "data": {
            "text/plain": [
              "<matplotlib.axes._subplots.AxesSubplot at 0x7fa3bff250d0>"
            ]
          },
          "metadata": {
            "tags": []
          },
          "execution_count": 22
        },
        {
          "output_type": "display_data",
          "data": {
            "image/png": "[encoded data removed]",
            "text/plain": [
              "<Figure size 576x288 with 2 Axes>"
            ]
          },
          "metadata": {
            "tags": [],
            "needs_background": "light"
          }
        }
      ]
    },
    {
      "cell_type": "markdown",
      "metadata": {
        "id": "er1S89R35FBR"
      },
      "source": [
        "**학습/테스트 데이터 나누기**"
      ]
    },
    {
      "cell_type": "code",
      "metadata": {
        "id": "9kk7isxB5Ct6"
      },
      "source": [
        "# 20%를 테스트 데이터로 분류합니다\n",
        "X_train,X_test,y_train,y_test=train_test_split(dataset.data, # dataset에서 data를 입력, target을 타겟 데이터로 설정하고 테스트 데이터 크기를 전체의 20%로 설정\n",
        "                                               dataset.target,test_size=0.2)"
      ],
      "execution_count": null,
      "outputs": []
    },
    {
      "cell_type": "markdown",
      "metadata": {
        "id": "ctofqttZ6HFK"
      },
      "source": [
        "**Gaussian Naive Bayes 분류하기**"
      ]
    },
    {
      "cell_type": "code",
      "metadata": {
        "id": "YRXdDfel464J"
      },
      "source": [
        "# 학습데이터로 모델을 학습합니다\n",
        "model = GaussianNB() # GaussianNB 모델 선언\n",
        "model.fit(X_train, y_train) # X_train, y_train 데이터로 model 핛브\n",
        "\n",
        "# 테스트 데이터로 모델을 테스트합니다\n",
        "expected = y_test # y_test 값을 expected에 대입하여 선언\n",
        "predicted = model.predict(X_test) # X_test 데이터를 입력으로 사용하여 결과 예측"
      ],
      "execution_count": null,
      "outputs": []
    },
    {
      "cell_type": "code",
      "metadata": {
        "id": "Wm9SPWOO5iwD",
        "colab": {
          "base_uri": "https://localhost:8080/",
          "height": 223
        },
        "outputId": "3cc93a55-828d-4f28-ac00-b826b4c49a5b"
      },
      "source": [
        "print(metrics.classification_report(y_test, predicted)) # y_test와 predicted 값을 통해 분류 리포트 출력\n",
        "print(accuracy_score(y_test, predicted)) # y_test와 predicted 값으로 accuracy 계산"
      ],
      "execution_count": null,
      "outputs": [
        {
          "output_type": "stream",
          "text": [
            "              precision    recall  f1-score   support\n",
            "\n",
            "           0       1.00      1.00      1.00        13\n",
            "           1       0.89      1.00      0.94         8\n",
            "           2       1.00      0.89      0.94         9\n",
            "\n",
            "   micro avg       0.97      0.97      0.97        30\n",
            "   macro avg       0.96      0.96      0.96        30\n",
            "weighted avg       0.97      0.97      0.97        30\n",
            "\n",
            "0.9666666666666667\n"
          ],
          "name": "stdout"
        }
      ]
    },
    {
      "cell_type": "markdown",
      "metadata": {
        "id": "_8SWbV8q6A9t"
      },
      "source": [
        "**혼동 행렬**"
      ]
    },
    {
      "cell_type": "code",
      "metadata": {
        "id": "vBhyG58X5xs_",
        "colab": {
          "base_uri": "https://localhost:8080/",
          "height": 73
        },
        "outputId": "42427fae-5e60-4096-d8d5-9eb28708c106"
      },
      "source": [
        "print(metrics.confusion_matrix(expected, predicted))  # expected, predicted confusion matrix 출력"
      ],
      "execution_count": null,
      "outputs": [
        {
          "output_type": "stream",
          "text": [
            "[[13  0  0]\n",
            " [ 0  8  0]\n",
            " [ 0  1  8]]\n"
          ],
          "name": "stdout"
        }
      ]
    },
    {
      "cell_type": "markdown",
      "metadata": {
        "id": "DLDTZml-6Ue2"
      },
      "source": [
        "# **베르누이 나이브 베이즈 분류**"
      ]
    },
    {
      "cell_type": "code",
      "metadata": {
        "id": "QfA4fV5p6gsb"
      },
      "source": [
        "import numpy as np\n",
        "import pandas as pd\n",
        "\n",
        "# 베르누이 나이브베이즈를 위한 라이브러리를 임포트합니다\n",
        "from sklearn.feature_extraction.text import CountVectorizer\n",
        "from sklearn.naive_bayes import BernoulliNB\n",
        "\n",
        "# 모델의 정확도 평가를 위해 임포트합니다\n",
        "from sklearn.metrics import accuracy_score"
      ],
      "execution_count": null,
      "outputs": []
    },
    {
      "cell_type": "markdown",
      "metadata": {
        "id": "XTod4RWG6gsi"
      },
      "source": [
        "**데이터 획득 및 탐색**"
      ]
    },
    {
      "cell_type": "code",
      "metadata": {
        "id": "8-ejq2G56gsj",
        "colab": {
          "base_uri": "https://localhost:8080/",
          "height": 233
        },
        "outputId": "d5c9fc02-ac83-416c-c841-31504d8b8b95"
      },
      "source": [
        "email_list = [ # email list 선언\n",
        "                {'email title': 'free game only today', 'spam': True},\n",
        "                {'email title': 'cheapest flight deal', 'spam': True},\n",
        "                {'email title': 'limited time offer only today only today', 'spam': True},\n",
        "                {'email title': 'today meeting schedule', 'spam': False},\n",
        "                {'email title': 'your flight schedule attached', 'spam': False},\n",
        "                {'email title': 'your credit card statement', 'spam': False}\n",
        "             ]\n",
        "df = pd.DataFrame(email_list) # email_list를 DataFrame 형식으로 만들어 df에 대입\n",
        "df"
      ],
      "execution_count": null,
      "outputs": [
        {
          "output_type": "execute_result",
          "data": {
            "text/plain": [
              "                                email title   spam\n",
              "0                      free game only today   True\n",
              "1                      cheapest flight deal   True\n",
              "2  limited time offer only today only today   True\n",
              "3                    today meeting schedule  False\n",
              "4             your flight schedule attached  False\n",
              "5                your credit card statement  False"
            ],
            "text/html": [
              "<div>\n",
              "<style scoped>\n",
              "    .dataframe tbody tr th:only-of-type {\n",
              "        vertical-align: middle;\n",
              "    }\n",
              "\n",
              "    .dataframe tbody tr th {\n",
              "        vertical-align: top;\n",
              "    }\n",
              "\n",
              "    .dataframe thead th {\n",
              "        text-align: right;\n",
              "    }\n",
              "</style>\n",
              "<table border=\"1\" class=\"dataframe\">\n",
              "  <thead>\n",
              "    <tr style=\"text-align: right;\">\n",
              "      <th></th>\n",
              "      <th>email title</th>\n",
              "      <th>spam</th>\n",
              "    </tr>\n",
              "  </thead>\n",
              "  <tbody>\n",
              "    <tr>\n",
              "      <th>0</th>\n",
              "      <td>free game only today</td>\n",
              "      <td>True</td>\n",
              "    </tr>\n",
              "    <tr>\n",
              "      <th>1</th>\n",
              "      <td>cheapest flight deal</td>\n",
              "      <td>True</td>\n",
              "    </tr>\n",
              "    <tr>\n",
              "      <th>2</th>\n",
              "      <td>limited time offer only today only today</td>\n",
              "      <td>True</td>\n",
              "    </tr>\n",
              "    <tr>\n",
              "      <th>3</th>\n",
              "      <td>today meeting schedule</td>\n",
              "      <td>False</td>\n",
              "    </tr>\n",
              "    <tr>\n",
              "      <th>4</th>\n",
              "      <td>your flight schedule attached</td>\n",
              "      <td>False</td>\n",
              "    </tr>\n",
              "    <tr>\n",
              "      <th>5</th>\n",
              "      <td>your credit card statement</td>\n",
              "      <td>False</td>\n",
              "    </tr>\n",
              "  </tbody>\n",
              "</table>\n",
              "</div>"
            ]
          },
          "metadata": {
            "tags": []
          },
          "execution_count": 28
        }
      ]
    },
    {
      "cell_type": "markdown",
      "metadata": {
        "id": "fZeRceNb6gsw"
      },
      "source": [
        "**데이터 다듬기**"
      ]
    },
    {
      "cell_type": "code",
      "metadata": {
        "id": "L7ddi1rQ6gsw",
        "colab": {
          "base_uri": "https://localhost:8080/",
          "height": 233
        },
        "outputId": "cb3f2a84-8269-4af3-8cb5-de6250ae4ee4"
      },
      "source": [
        "df['label'] = df['spam'].map({True:1,False:0}) # df spam 데이터 True/False를 1/0으로 mapping\n",
        "df"
      ],
      "execution_count": null,
      "outputs": [
        {
          "output_type": "execute_result",
          "data": {
            "text/plain": [
              "                                email title   spam  label\n",
              "0                      free game only today   True      1\n",
              "1                      cheapest flight deal   True      1\n",
              "2  limited time offer only today only today   True      1\n",
              "3                    today meeting schedule  False      0\n",
              "4             your flight schedule attached  False      0\n",
              "5                your credit card statement  False      0"
            ],
            "text/html": [
              "<div>\n",
              "<style scoped>\n",
              "    .dataframe tbody tr th:only-of-type {\n",
              "        vertical-align: middle;\n",
              "    }\n",
              "\n",
              "    .dataframe tbody tr th {\n",
              "        vertical-align: top;\n",
              "    }\n",
              "\n",
              "    .dataframe thead th {\n",
              "        text-align: right;\n",
              "    }\n",
              "</style>\n",
              "<table border=\"1\" class=\"dataframe\">\n",
              "  <thead>\n",
              "    <tr style=\"text-align: right;\">\n",
              "      <th></th>\n",
              "      <th>email title</th>\n",
              "      <th>spam</th>\n",
              "      <th>label</th>\n",
              "    </tr>\n",
              "  </thead>\n",
              "  <tbody>\n",
              "    <tr>\n",
              "      <th>0</th>\n",
              "      <td>free game only today</td>\n",
              "      <td>True</td>\n",
              "      <td>1</td>\n",
              "    </tr>\n",
              "    <tr>\n",
              "      <th>1</th>\n",
              "      <td>cheapest flight deal</td>\n",
              "      <td>True</td>\n",
              "      <td>1</td>\n",
              "    </tr>\n",
              "    <tr>\n",
              "      <th>2</th>\n",
              "      <td>limited time offer only today only today</td>\n",
              "      <td>True</td>\n",
              "      <td>1</td>\n",
              "    </tr>\n",
              "    <tr>\n",
              "      <th>3</th>\n",
              "      <td>today meeting schedule</td>\n",
              "      <td>False</td>\n",
              "      <td>0</td>\n",
              "    </tr>\n",
              "    <tr>\n",
              "      <th>4</th>\n",
              "      <td>your flight schedule attached</td>\n",
              "      <td>False</td>\n",
              "      <td>0</td>\n",
              "    </tr>\n",
              "    <tr>\n",
              "      <th>5</th>\n",
              "      <td>your credit card statement</td>\n",
              "      <td>False</td>\n",
              "      <td>0</td>\n",
              "    </tr>\n",
              "  </tbody>\n",
              "</table>\n",
              "</div>"
            ]
          },
          "metadata": {
            "tags": []
          },
          "execution_count": 29
        }
      ]
    },
    {
      "cell_type": "code",
      "metadata": {
        "id": "x2qKSICS6gsz",
        "colab": {
          "base_uri": "https://localhost:8080/",
          "height": 129
        },
        "outputId": "dbe3ac03-023b-47ab-c604-1d45bd3c5b69"
      },
      "source": [
        "# 학습에 사용될 데이터와 분류값을 나눕니다\n",
        "df_x=df[\"email title\"] # df email title 데이터를 df_x에 대입하여 선언\n",
        "df_y=df[\"label\"] # df label 데이터를 df_y에 대입하여 선언\n",
        "\n",
        "cv = CountVectorizer(binary=True) # CountVectorizer 선언\n",
        "x_traincv=cv.fit_transform(df_x) # 문장 벡터화\n",
        "encoded_input=x_traincv.toarray() # x_traincv를 array 형태로 변환하고 encoded_input에 대입하여 선언\n",
        "encoded_input"
      ],
      "execution_count": null,
      "outputs": [
        {
          "output_type": "execute_result",
          "data": {
            "text/plain": [
              "array([[0, 0, 0, 0, 0, 0, 1, 1, 0, 0, 0, 1, 0, 0, 0, 1, 0],\n",
              "       [0, 0, 1, 0, 1, 1, 0, 0, 0, 0, 0, 0, 0, 0, 0, 0, 0],\n",
              "       [0, 0, 0, 0, 0, 0, 0, 0, 1, 0, 1, 1, 0, 0, 1, 1, 0],\n",
              "       [0, 0, 0, 0, 0, 0, 0, 0, 0, 1, 0, 0, 1, 0, 0, 1, 0],\n",
              "       [1, 0, 0, 0, 0, 1, 0, 0, 0, 0, 0, 0, 1, 0, 0, 0, 1],\n",
              "       [0, 1, 0, 1, 0, 0, 0, 0, 0, 0, 0, 0, 0, 1, 0, 0, 1]])"
            ]
          },
          "metadata": {
            "tags": []
          },
          "execution_count": 30
        }
      ]
    },
    {
      "cell_type": "code",
      "metadata": {
        "id": "9dpyYWrb6gs7",
        "colab": {
          "base_uri": "https://localhost:8080/",
          "height": 36
        },
        "outputId": "3cbf926d-5688-4683-ce5b-225070a95d7d"
      },
      "source": [
        "cv.inverse_transform(encoded_input[0]) # encoded_input[0] 데이터의 역수를 반환"
      ],
      "execution_count": null,
      "outputs": [
        {
          "output_type": "execute_result",
          "data": {
            "text/plain": [
              "[array([u'free', u'game', u'only', u'today'], dtype='<U9')]"
            ]
          },
          "metadata": {
            "tags": []
          },
          "execution_count": 31
        }
      ]
    },
    {
      "cell_type": "code",
      "metadata": {
        "id": "7T38RAuL6gs-",
        "colab": {
          "base_uri": "https://localhost:8080/",
          "height": 335
        },
        "outputId": "b3ec6bb3-a0e8-4a76-e0f7-9f8d8c4704d1"
      },
      "source": [
        "cv.get_feature_names() # cv의 feature name들 반환"
      ],
      "execution_count": null,
      "outputs": [
        {
          "output_type": "execute_result",
          "data": {
            "text/plain": [
              "[u'attached',\n",
              " u'card',\n",
              " u'cheapest',\n",
              " u'credit',\n",
              " u'deal',\n",
              " u'flight',\n",
              " u'free',\n",
              " u'game',\n",
              " u'limited',\n",
              " u'meeting',\n",
              " u'offer',\n",
              " u'only',\n",
              " u'schedule',\n",
              " u'statement',\n",
              " u'time',\n",
              " u'today',\n",
              " u'your']"
            ]
          },
          "metadata": {
            "tags": []
          },
          "execution_count": 32
        }
      ]
    },
    {
      "cell_type": "markdown",
      "metadata": {
        "id": "qRbmrLoe6gtB"
      },
      "source": [
        "**베르누이 나이브베이즈 분류**"
      ]
    },
    {
      "cell_type": "code",
      "metadata": {
        "id": "p1_K7_DT6gtB",
        "colab": {
          "base_uri": "https://localhost:8080/",
          "height": 36
        },
        "outputId": "b3b6b3ee-cb18-4dc2-91da-774f124004bf"
      },
      "source": [
        "# 학습 데이터로 베르누이 분류기를 학습합니다\n",
        "bnb = BernoulliNB() # BernoulliNb 선언 \n",
        "y_train=df_y # df_y를 y_train에 대입하여 선언\n",
        "bnb.fit(x_traincv,y_train) # x_train_cv, y_train 데이터로 bnb 모델 학습"
      ],
      "execution_count": null,
      "outputs": [
        {
          "output_type": "execute_result",
          "data": {
            "text/plain": [
              "BernoulliNB(alpha=1.0, binarize=0.0, class_prior=None, fit_prior=True)"
            ]
          },
          "metadata": {
            "tags": []
          },
          "execution_count": 33
        }
      ]
    },
    {
      "cell_type": "code",
      "metadata": {
        "id": "344TOnMu6gtE"
      },
      "source": [
        "# 테스트 데이터 다듬기\n",
        "test_email_list = [ # test_email_list 선언\n",
        "                {'email title': 'free flight offer', 'spam': True},\n",
        "                {'email title': 'hey traveler free flight deal', 'spam': True},\n",
        "                {'email title': 'limited free game offer', 'spam': True},\n",
        "                {'email title': 'today flight schedule', 'spam': False},\n",
        "                {'email title': 'your credit card attached', 'spam': False},\n",
        "                {'email title': 'free credit card offer only today', 'spam': False}\n",
        "             ]\n",
        "test_df = pd.DataFrame(test_email_list) # test_email_list를 DataFrame 형식으로 선언하여 test_df에 대입\n",
        "test_df['label'] = test_df['spam'].map({True:1,False:0}) # test_df spam 데이터 True/False를 1/0으로 mapping\n",
        "test_x=test_df[\"email title\"] # test_df email title을 test_x에 대입하여 선언\n",
        "test_y=test_df[\"label\"] # test_df label 데이터를 test_y에 대입하여 선언\n",
        "x_testcv=cv.transform(test_x) # test_x 데이터 벡터화"
      ],
      "execution_count": null,
      "outputs": []
    },
    {
      "cell_type": "markdown",
      "metadata": {
        "id": "gELoZxb-6gtG"
      },
      "source": [
        "**테스트**"
      ]
    },
    {
      "cell_type": "code",
      "metadata": {
        "id": "KDK5oViS6gtG",
        "colab": {
          "base_uri": "https://localhost:8080/",
          "height": 36
        },
        "outputId": "c6793b6c-97d4-4950-f10a-653fd099963b"
      },
      "source": [
        "predictions=bnb.predict(x_testcv) # x_testcv 데이터를 bnb 모델에 적용하여 결과 예측\n",
        "accuracy_score(test_y, predictions) # test_y와 predictions를 통해 정확도 계산"
      ],
      "execution_count": null,
      "outputs": [
        {
          "output_type": "execute_result",
          "data": {
            "text/plain": [
              "0.8333333333333334"
            ]
          },
          "metadata": {
            "tags": []
          },
          "execution_count": 35
        }
      ]
    }
  ]
}
