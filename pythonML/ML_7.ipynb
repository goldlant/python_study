{
  "nbformat": 4,
  "nbformat_minor": 0,
  "metadata": {
    "colab": {
      "name": "ML_7",
      "provenance": [],
      "collapsed_sections": [
        "v_8IiKXD2M-f"
      ],
      "include_colab_link": true
    },
    "kernelspec": {
      "name": "python3",
      "display_name": "Python 3"
    }
  },
  "cells": [
    {
      "cell_type": "markdown",
      "metadata": {
        "id": "view-in-github",
        "colab_type": "text"
      },
      "source": [
        "<a href=\"https://colab.research.google.com/github/selfmaded/python_study/blob/master/ML_7.ipynb\" target=\"_parent\"><img src=\"https://colab.research.google.com/assets/colab-badge.svg\" alt=\"Open In Colab\"/></a>"
      ]
    },
    {
      "cell_type": "markdown",
      "metadata": {
        "id": "v_8IiKXD2M-f"
      },
      "source": [
        "# **로지스틱 회귀 알고리즘**"
      ]
    },
    {
      "cell_type": "markdown",
      "metadata": {
        "id": "1Qs5ILTV2GJF"
      },
      "source": [
        "# 단일 입력 로지스틱 회귀 모델"
      ]
    },
    {
      "cell_type": "markdown",
      "metadata": {
        "id": "drJtuLID2j75"
      },
      "source": [
        "**라이브러리 import**"
      ]
    },
    {
      "cell_type": "code",
      "metadata": {
        "id": "UKAHdwEl2GJG"
      },
      "source": [
        "from tensorflow.keras.models import Sequential\n",
        "from tensorflow.keras.layers import Dense, Activation\n",
        "import numpy as np"
      ],
      "execution_count": null,
      "outputs": []
    },
    {
      "cell_type": "markdown",
      "metadata": {
        "id": "a_PpYgAS2hZC"
      },
      "source": [
        "**로지스틱 회귀 모델 만들기**"
      ]
    },
    {
      "cell_type": "code",
      "metadata": {
        "id": "JinCVPis2GJK"
      },
      "source": [
        "model = Sequential() # Sequential 모델을 model에 대입하여 선언\n",
        "model.add(Dense(input_dim=1, units = 1)) # input_dim : 입력 뉴런 수, units : output 공간의 차원\n",
        "model.add(Activation('sigmoid')) #사용할 활성화 함수\n",
        "model.compile(loss='binary_crossentropy', #loss : cost function -> binary_crossentropy(카테고리가 2개인 경우)\n",
        "              optimizer='sgd',            #optimizer : stochastic gradient descent (SGD)\n",
        "              metrics=['binary_accuracy']) #binary_accuracy : 이진 분류의 정확도(출력이 0.5 이상일 경우 출력을 1로 판단, 출력이 0.5 이하일 경우 출력을 0으로 판단)"
      ],
      "execution_count": null,
      "outputs": []
    },
    {
      "cell_type": "markdown",
      "metadata": {
        "id": "5lX-r-ga2GJN"
      },
      "source": [
        "**데이터 생성**"
      ]
    },
    {
      "cell_type": "code",
      "metadata": {
        "id": "kqyLnvho2GJN"
      },
      "source": [
        "X = np.array([-2, -1.5, -1, 1.25, 1.62, 2]) # [-2, -1.5, -1, 1.25, 1.62, 2] numpy array를 X에 대입하여 선언\n",
        "Y = np.array([0, 0, 0, 1, 1, 1]) # [0, 0, 0, 1, 1, 1] numpy array를 X에 대입하여 선언"
      ],
      "execution_count": null,
      "outputs": []
    },
    {
      "cell_type": "markdown",
      "metadata": {
        "id": "RVkBhFdZ2GJQ"
      },
      "source": [
        "**모델 학습 진행**"
      ]
    },
    {
      "cell_type": "code",
      "metadata": {
        "id": "nX8QpNac2GJQ",
        "colab": {
          "base_uri": "https://localhost:8080/"
        },
        "outputId": "8bd07678-908c-4896-85c6-21145cfe30a1"
      },
      "source": [
        "model.fit(X, Y, epochs=300, verbose=0) # X, Y 데이터를 통해 model 학습, epoch: 에폭 수, verbose: 진행사항 시각화 모드 설정"
      ],
      "execution_count": null,
      "outputs": [
        {
          "output_type": "execute_result",
          "data": {
            "text/plain": [
              "<tensorflow.python.keras.callbacks.History at 0x7f13203e7198>"
            ]
          },
          "metadata": {
            "tags": []
          },
          "execution_count": 4
        }
      ]
    },
    {
      "cell_type": "markdown",
      "metadata": {
        "id": "pR_CNXMxx2cZ"
      },
      "source": [
        "**예측하기**"
      ]
    },
    {
      "cell_type": "code",
      "metadata": {
        "id": "FAOGq9Uy2GJU",
        "colab": {
          "base_uri": "https://localhost:8080/"
        },
        "outputId": "7ab683f2-17e0-420b-d508-a21fb80f035e"
      },
      "source": [
        "model.predict([-2, -1.5, -1, 1.25, 1.62, 2]) # model을 통해 [-2, -1.5, -1, 1.25, 1.62, 2]에 대한 결과값 예측"
      ],
      "execution_count": null,
      "outputs": [
        {
          "output_type": "execute_result",
          "data": {
            "text/plain": [
              "array([[0.02704723],\n",
              "       [0.0633273 ],\n",
              "       [0.14120908],\n",
              "       [0.89971095],\n",
              "       [0.9454054 ],\n",
              "       [0.97144955]], dtype=float32)"
            ]
          },
          "metadata": {
            "tags": []
          },
          "execution_count": 5
        }
      ]
    },
    {
      "cell_type": "code",
      "metadata": {
        "id": "RjisVNDq2GJX",
        "colab": {
          "base_uri": "https://localhost:8080/"
        },
        "outputId": "11e187a6-670d-462b-e9df-0194fb72ef95"
      },
      "source": [
        "model.predict([-1000, 1000]) # model을 통해 [-1000, 1000]에 대한 결과값 예측"
      ],
      "execution_count": null,
      "outputs": [
        {
          "output_type": "execute_result",
          "data": {
            "text/plain": [
              "array([[0.],\n",
              "       [1.]], dtype=float32)"
            ]
          },
          "metadata": {
            "tags": []
          },
          "execution_count": 6
        }
      ]
    },
    {
      "cell_type": "markdown",
      "metadata": {
        "id": "MIv_8kQu3rO5"
      },
      "source": [
        "**모델 요약**"
      ]
    },
    {
      "cell_type": "code",
      "metadata": {
        "id": "deJB5CF02GJa",
        "colab": {
          "base_uri": "https://localhost:8080/"
        },
        "outputId": "c4f7c61f-a760-427d-955a-248586531999"
      },
      "source": [
        "model.summary() # model summary 내용 반환"
      ],
      "execution_count": null,
      "outputs": [
        {
          "output_type": "stream",
          "text": [
            "Model: \"sequential\"\n",
            "_________________________________________________________________\n",
            "Layer (type)                 Output Shape              Param #   \n",
            "=================================================================\n",
            "dense (Dense)                (None, 1)                 2         \n",
            "_________________________________________________________________\n",
            "activation (Activation)      (None, 1)                 0         \n",
            "=================================================================\n",
            "Total params: 2\n",
            "Trainable params: 2\n",
            "Non-trainable params: 0\n",
            "_________________________________________________________________\n"
          ],
          "name": "stdout"
        }
      ]
    },
    {
      "cell_type": "markdown",
      "metadata": {
        "id": "sqt2Na0KBaDU"
      },
      "source": [
        "**weight 확인**"
      ]
    },
    {
      "cell_type": "code",
      "metadata": {
        "id": "RQqsC5jO2GJh",
        "colab": {
          "base_uri": "https://localhost:8080/"
        },
        "outputId": "52741de9-b00f-4494-edff-62e15096448e"
      },
      "source": [
        "model.layers[0].get_weights() # model의 0번째 layer weight 값 반환"
      ],
      "execution_count": null,
      "outputs": [
        {
          "output_type": "execute_result",
          "data": {
            "text/plain": [
              "[array([[1.7774669]], dtype=float32), array([-0.02781698], dtype=float32)]"
            ]
          },
          "metadata": {
            "tags": []
          },
          "execution_count": 8
        }
      ]
    },
    {
      "cell_type": "markdown",
      "metadata": {
        "id": "0XBb3xuL17kk"
      },
      "source": [
        "# 다중 입력 로지스틱 회귀 모델"
      ]
    },
    {
      "cell_type": "markdown",
      "metadata": {
        "id": "beU6FF4yBMyO"
      },
      "source": [
        "**라이브러리 import**"
      ]
    },
    {
      "cell_type": "code",
      "metadata": {
        "id": "xpb91MzB17km"
      },
      "source": [
        "from tensorflow.keras.models import Sequential\n",
        "from tensorflow.keras.layers import Dense, Activation\n",
        "import numpy as np"
      ],
      "execution_count": null,
      "outputs": []
    },
    {
      "cell_type": "markdown",
      "metadata": {
        "id": "Y5lkk2gUBScq"
      },
      "source": [
        "**로지스틱 회귀 모델 만들기**"
      ]
    },
    {
      "cell_type": "code",
      "metadata": {
        "id": "eb7j3x2g17ks"
      },
      "source": [
        "model = Sequential() # Sequential 모델을 model에 대입하여 선언\n",
        "model.add(Dense(input_dim=2, units = 1)) # input_dim : 입력 뉴런 수, units : output 공간의 차원\n",
        "model.add(Activation('sigmoid')) # model의 활성화 함수를 sigmoid로 설정\n",
        "model.compile(loss='binary_crossentropy', optimizer='sgd', metrics=['binary_accuracy']) # model compile, loss: 손실 함수 설정, optimizer: 최적화 함수 설정, metrics: 정확도 계산 방법 설정"
      ],
      "execution_count": null,
      "outputs": []
    },
    {
      "cell_type": "markdown",
      "metadata": {
        "id": "NbffnRIRCK81"
      },
      "source": [
        "**데이터 생성**"
      ]
    },
    {
      "cell_type": "code",
      "metadata": {
        "id": "660a2hZG17kv"
      },
      "source": [
        "X = np.array([(0,0), (0,1), (1,0), (1,1)])  # [(0,0), (0,1), (1,0), (1,1)] numpy array를 X에 대입하여 선언\n",
        "Y = np.array([0, 0, 0, 1]) # [0, 0, 0, 1] numpy array를 에 대입하여 선언"
      ],
      "execution_count": null,
      "outputs": []
    },
    {
      "cell_type": "markdown",
      "metadata": {
        "id": "iWdsRA3c17ky"
      },
      "source": [
        "**모델 학습 진행**"
      ]
    },
    {
      "cell_type": "code",
      "metadata": {
        "id": "GRH2yslW17ky",
        "colab": {
          "base_uri": "https://localhost:8080/"
        },
        "outputId": "43328e4b-9925-4804-c077-af04e1dd0ab9"
      },
      "source": [
        "model.fit(X, Y, epochs=5000, verbose=0) # X, Y 데이터로 model 학습, epoch: 에폭 수, verbose: 진행사항 시각화 모드 설정"
      ],
      "execution_count": null,
      "outputs": [
        {
          "output_type": "execute_result",
          "data": {
            "text/plain": [
              "<tensorflow.python.keras.callbacks.History at 0x7f13201d3320>"
            ]
          },
          "metadata": {
            "tags": []
          },
          "execution_count": 12
        }
      ]
    },
    {
      "cell_type": "markdown",
      "metadata": {
        "id": "RLgWOFffzDEN"
      },
      "source": [
        "**예측하기**"
      ]
    },
    {
      "cell_type": "code",
      "metadata": {
        "id": "TYahTvxM17k2",
        "colab": {
          "base_uri": "https://localhost:8080/"
        },
        "outputId": "749f1e54-b23f-41c6-a0ea-bec60d719149"
      },
      "source": [
        "model.predict(X) # model을 통해 X의 결과값 예측"
      ],
      "execution_count": null,
      "outputs": [
        {
          "output_type": "execute_result",
          "data": {
            "text/plain": [
              "array([[0.03593819],\n",
              "       [0.22743897],\n",
              "       [0.20943661],\n",
              "       [0.67660236]], dtype=float32)"
            ]
          },
          "metadata": {
            "tags": []
          },
          "execution_count": 13
        }
      ]
    },
    {
      "cell_type": "markdown",
      "metadata": {
        "id": "l8KtpjCRCgqa"
      },
      "source": [
        "**모델 요약**"
      ]
    },
    {
      "cell_type": "code",
      "metadata": {
        "id": "_kw7vZb417k6",
        "colab": {
          "base_uri": "https://localhost:8080/"
        },
        "outputId": "508deb70-ff18-4a94-fc8b-78d1addf79c5"
      },
      "source": [
        "model.summary() # model summary 내용 반환"
      ],
      "execution_count": null,
      "outputs": [
        {
          "output_type": "stream",
          "text": [
            "Model: \"sequential_1\"\n",
            "_________________________________________________________________\n",
            "Layer (type)                 Output Shape              Param #   \n",
            "=================================================================\n",
            "dense_1 (Dense)              (None, 1)                 3         \n",
            "_________________________________________________________________\n",
            "activation_1 (Activation)    (None, 1)                 0         \n",
            "=================================================================\n",
            "Total params: 3\n",
            "Trainable params: 3\n",
            "Non-trainable params: 0\n",
            "_________________________________________________________________\n"
          ],
          "name": "stdout"
        }
      ]
    },
    {
      "cell_type": "markdown",
      "metadata": {
        "id": "D3p_PTTGClsz"
      },
      "source": [
        "**weight 확인**"
      ]
    },
    {
      "cell_type": "code",
      "metadata": {
        "id": "mhr-DDfj17lB",
        "colab": {
          "base_uri": "https://localhost:8080/"
        },
        "outputId": "ac0bc2f7-1667-49e8-a3b5-b20559bcc73e"
      },
      "source": [
        "model.layers[0].get_weights() # model의 0번째 layer weight 값 반환"
      ],
      "execution_count": null,
      "outputs": [
        {
          "output_type": "execute_result",
          "data": {
            "text/plain": [
              "[array([[1.9610301],\n",
              "        [2.0665257]], dtype=float32), array([-3.2893548], dtype=float32)]"
            ]
          },
          "metadata": {
            "tags": []
          },
          "execution_count": 15
        }
      ]
    },
    {
      "cell_type": "markdown",
      "metadata": {
        "id": "5Y_G-lphCjhL"
      },
      "source": [
        "# 소프트맥스 (다중 분류 로지스틱 회귀 모델)"
      ]
    },
    {
      "cell_type": "markdown",
      "metadata": {
        "id": "ht06gOdNDvMg"
      },
      "source": [
        "**라이브러리 import**"
      ]
    },
    {
      "cell_type": "code",
      "metadata": {
        "id": "5cCJciqXCjhL"
      },
      "source": [
        "from tensorflow.keras.models import Sequential\n",
        "from tensorflow.keras.layers import Dense, Activation\n",
        "from tensorflow.keras.utils import to_categorical\n",
        "from tensorflow.keras.datasets import mnist"
      ],
      "execution_count": null,
      "outputs": []
    },
    {
      "cell_type": "markdown",
      "metadata": {
        "id": "Fk-Wl-sKDx5F"
      },
      "source": [
        "**데이터셋 수집 및 탐색**"
      ]
    },
    {
      "cell_type": "code",
      "metadata": {
        "id": "czqxrosoCjhT",
        "colab": {
          "base_uri": "https://localhost:8080/"
        },
        "outputId": "da7aeb45-fbcd-455c-a456-0bbabc117992"
      },
      "source": [
        "(X_train, y_train), (X_test, y_test) = mnist.load_data() # mnist 데이터를 로드하여 학습데이터(X,y), 평가데이터(X,y)를 각각 X_train, y_train, X_test, y_test에 대입하여 선언\n",
        "print(\"train data (count, row, column) : \" + str(X_train.shape) ) # X_Train 데이터의 shape을 string형태로 변환하여 출력\n",
        "print(\"test data  (count, row, column) : \" + str(X_test.shape) ) # X_test 데이터의 shape을 string형태로 변환하여 출력"
      ],
      "execution_count": null,
      "outputs": [
        {
          "output_type": "stream",
          "text": [
            "Downloading data from https://storage.googleapis.com/tensorflow/tf-keras-datasets/mnist.npz\n",
            "11493376/11490434 [==============================] - 0s 0us/step\n",
            "train data (count, row, column) : (60000, 28, 28)\n",
            "test data  (count, row, column) : (10000, 28, 28)\n"
          ],
          "name": "stdout"
        }
      ]
    },
    {
      "cell_type": "code",
      "metadata": {
        "id": "MIkMQ5LsCjhd"
      },
      "source": [
        "print(X_train[0]) #학습 데이터 1개를 출력"
      ],
      "execution_count": null,
      "outputs": []
    },
    {
      "cell_type": "markdown",
      "metadata": {
        "id": "mFs62znAEA_Q"
      },
      "source": [
        "**데이터 정규화**"
      ]
    },
    {
      "cell_type": "code",
      "metadata": {
        "id": "Z3kWQ-5LCjhg"
      },
      "source": [
        "X_train = X_train.astype('float32')  # X_train 데이터를 float32형태로 변환\n",
        "X_test = X_test.astype('float32')  # X_test 데이터를 float32형태로 변환\n",
        "X_train /= 255 # X_train 전체 데이터를 255로 나눔\n",
        "X_test /= 255 # X_test 전체 데이터를 255로 나눔\n",
        "\n",
        "print(X_train[0]) #학습 데이터 1개를 출력"
      ],
      "execution_count": null,
      "outputs": []
    },
    {
      "cell_type": "code",
      "metadata": {
        "id": "_eCeSwXZCjho",
        "colab": {
          "base_uri": "https://localhost:8080/"
        },
        "outputId": "d69c98b2-de9d-4d0e-d8a4-36407dec661a"
      },
      "source": [
        "print(\"train target (count) : \" + str(y_train.shape) )  # y_train 데이터의 shape을 string형태로 변환하여 출력\n",
        "print(\"test target  (count) : \" + str(y_test.shape) ) # y_test 데이터의 shape을 string형태로 변환하여 출력"
      ],
      "execution_count": null,
      "outputs": [
        {
          "output_type": "stream",
          "text": [
            "train target (count) : (60000,)\n",
            "test target  (count) : (10000,)\n"
          ],
          "name": "stdout"
        }
      ]
    },
    {
      "cell_type": "code",
      "metadata": {
        "id": "1-9ZgofKCjhs",
        "colab": {
          "base_uri": "https://localhost:8080/"
        },
        "outputId": "8ef70004-498a-49ba-9dde-d5bc0a01ee26"
      },
      "source": [
        "print(\"sample from train : \" + str(y_train[0]) ) # y_train에서 0번째 데이터를 string 형태로 변환하여 출력\n",
        "print(\"sample from test : \" + str(y_test[0]) ) # y_test에서 0번째 데이터를 string 형태로 변환하여 출력"
      ],
      "execution_count": null,
      "outputs": [
        {
          "output_type": "stream",
          "text": [
            "sample from train : 5\n",
            "sample from test : 7\n"
          ],
          "name": "stdout"
        }
      ]
    },
    {
      "cell_type": "markdown",
      "metadata": {
        "id": "-IVH-hrBERLe"
      },
      "source": [
        "**데이터 단순화**"
      ]
    },
    {
      "cell_type": "code",
      "metadata": {
        "id": "zMfzvdYvCjhx",
        "colab": {
          "base_uri": "https://localhost:8080/"
        },
        "outputId": "f45334c0-768d-4d27-f340-45f71c549dda"
      },
      "source": [
        "input_dim = 784 # 28*28 \n",
        "X_train = X_train.reshape(60000, input_dim) # x_train 데이터를 [28, 28] 2차원 행렬에서 [784] 1차원 행렬로 reshape\n",
        "X_test = X_test.reshape(10000, input_dim) # x_test 데이터를 [28, 28] 2차원 행렬에서 [784] 1차원 행렬로 reshape\n",
        "X_train"
      ],
      "execution_count": null,
      "outputs": [
        {
          "output_type": "execute_result",
          "data": {
            "text/plain": [
              "array([[0., 0., 0., ..., 0., 0., 0.],\n",
              "       [0., 0., 0., ..., 0., 0., 0.],\n",
              "       [0., 0., 0., ..., 0., 0., 0.],\n",
              "       ...,\n",
              "       [0., 0., 0., ..., 0., 0., 0.],\n",
              "       [0., 0., 0., ..., 0., 0., 0.],\n",
              "       [0., 0., 0., ..., 0., 0., 0.]], dtype=float32)"
            ]
          },
          "metadata": {
            "tags": []
          },
          "execution_count": 22
        }
      ]
    },
    {
      "cell_type": "code",
      "metadata": {
        "id": "UN8scGw_Cjh0",
        "colab": {
          "base_uri": "https://localhost:8080/"
        },
        "outputId": "c5da8481-2006-4d85-cf66-2d71da02ead3"
      },
      "source": [
        "print(X_train.shape)\n",
        "print(y_train.shape)\n",
        "print(X_test.shape)\n",
        "print(y_test.shape)"
      ],
      "execution_count": null,
      "outputs": [
        {
          "output_type": "stream",
          "text": [
            "(60000, 784)\n",
            "(60000,)\n",
            "(10000, 784)\n",
            "(10000,)\n"
          ],
          "name": "stdout"
        }
      ]
    },
    {
      "cell_type": "markdown",
      "metadata": {
        "id": "AtNj_didEVd2"
      },
      "source": [
        "**소프트맥스**"
      ]
    },
    {
      "cell_type": "code",
      "metadata": {
        "id": "ByoIBXSnCjh3",
        "colab": {
          "base_uri": "https://localhost:8080/"
        },
        "outputId": "17f2eb13-2929-42ed-f741-8a14db07b3d4"
      },
      "source": [
        "num_classes = 10\n",
        "y_train = to_categorical(y_train, num_classes) # y_train데이터를 10(num_classes)개의 클래스를 갖는 categorical 데이터로 변환\n",
        "y_test = to_categorical(y_test, num_classes) # y_test데이터를 10(num_classes)개의 클래스를 갖는 categorical 데이터로 변환\n",
        "print(y_train[0])"
      ],
      "execution_count": null,
      "outputs": [
        {
          "output_type": "stream",
          "text": [
            "[0. 0. 0. 0. 0. 1. 0. 0. 0. 0.]\n"
          ],
          "name": "stdout"
        }
      ]
    },
    {
      "cell_type": "markdown",
      "metadata": {
        "id": "PAp-a4frEY4F"
      },
      "source": [
        "**모델 학습**"
      ]
    },
    {
      "cell_type": "code",
      "metadata": {
        "id": "7vwJ0NBuCjiT",
        "colab": {
          "base_uri": "https://localhost:8080/"
        },
        "outputId": "f0f0f954-0f6c-422c-ee48-feab2cc82f0b"
      },
      "source": [
        "model = Sequential()  # Sequential 모델을 model에 대입하여 선언\n",
        "model.add(Dense(input_dim=input_dim, units = 10, activation='softmax')) # input layer 선언, input_dim : 입력 뉴런 수, units : output 공간의 차원, activation: 활성화 함수 설정\n",
        "model.compile(optimizer='sgd', loss='categorical_crossentropy', metrics=['accuracy']) # model compile, loss: 손실 함수 설정, optimizer: 최적화 함수 설정, metrics: 정확도 계산 방법 설정\n",
        "model.fit(X_train, y_train, batch_size=2048, epochs=100, verbose=0) # X_train, y_train 데이터를 통해 model 학습, batch_size: 배치 크기 설정, epoch: 에폭 수, verbose: 진행사항 시각화 모드 설정"
      ],
      "execution_count": null,
      "outputs": [
        {
          "output_type": "execute_result",
          "data": {
            "text/plain": [
              "<tensorflow.python.keras.callbacks.History at 0x7f1320109be0>"
            ]
          },
          "metadata": {
            "tags": []
          },
          "execution_count": 25
        }
      ]
    },
    {
      "cell_type": "markdown",
      "metadata": {
        "id": "a7xQXCF-EdOE"
      },
      "source": [
        "**모델 테스트**"
      ]
    },
    {
      "cell_type": "code",
      "metadata": {
        "id": "nSjKErsKCjiW",
        "colab": {
          "base_uri": "https://localhost:8080/"
        },
        "outputId": "81e83ad8-507e-47b3-cc6a-d5fa5ccd1c3f"
      },
      "source": [
        "score = model.evaluate(X_test, y_test)  # X_test, y_test 값을 통해 model 정확도를 계산한 후 score에 대입하여 선언\n",
        "print('Test accuracy:', score[1])"
      ],
      "execution_count": null,
      "outputs": [
        {
          "output_type": "stream",
          "text": [
            "313/313 [==============================] - 1s 2ms/step - loss: 0.4225 - accuracy: 0.8893\n",
            "Test accuracy: 0.8892999887466431\n"
          ],
          "name": "stdout"
        }
      ]
    },
    {
      "cell_type": "markdown",
      "metadata": {
        "id": "mUmsJjT_CjiZ"
      },
      "source": [
        "**모델 요약**"
      ]
    },
    {
      "cell_type": "code",
      "metadata": {
        "id": "fH6IRFLXCjiZ",
        "colab": {
          "base_uri": "https://localhost:8080/"
        },
        "outputId": "665f6979-02e3-4ef3-f9da-e37952440763"
      },
      "source": [
        "model.summary() # model summary 내용 반환"
      ],
      "execution_count": null,
      "outputs": [
        {
          "output_type": "stream",
          "text": [
            "Model: \"sequential_2\"\n",
            "_________________________________________________________________\n",
            "Layer (type)                 Output Shape              Param #   \n",
            "=================================================================\n",
            "dense_2 (Dense)              (None, 10)                7850      \n",
            "=================================================================\n",
            "Total params: 7,850\n",
            "Trainable params: 7,850\n",
            "Non-trainable params: 0\n",
            "_________________________________________________________________\n"
          ],
          "name": "stdout"
        }
      ]
    },
    {
      "cell_type": "code",
      "metadata": {
        "id": "odCuHYEhCjie",
        "colab": {
          "base_uri": "https://localhost:8080/"
        },
        "outputId": "77a74e6b-586b-420c-9454-0b76047da3ba"
      },
      "source": [
        "model.layers[0].get_weights() # model의 0번째 layer weight 값 반환 "
      ],
      "execution_count": null,
      "outputs": [
        {
          "output_type": "execute_result",
          "data": {
            "text/plain": [
              "[array([[ 0.06003564,  0.01880657, -0.0500227 , ..., -0.03777415,\n",
              "         -0.06845812, -0.02365827],\n",
              "        [ 0.03003573, -0.01267216,  0.04849791, ..., -0.03808445,\n",
              "         -0.08689357, -0.02334825],\n",
              "        [-0.01617073, -0.00285913, -0.08234502, ...,  0.07006595,\n",
              "          0.07877513,  0.04902393],\n",
              "        ...,\n",
              "        [-0.01080633,  0.07791851, -0.01975209, ..., -0.03589239,\n",
              "         -0.0413778 ,  0.02030614],\n",
              "        [-0.05988739,  0.07429858,  0.01257917, ...,  0.04241062,\n",
              "          0.00589474, -0.0400427 ],\n",
              "        [ 0.0680731 ,  0.07623536, -0.00642883, ...,  0.04020619,\n",
              "         -0.0095406 , -0.04738884]], dtype=float32),\n",
              " array([-0.08497713,  0.16926983, -0.02705523, -0.04466618,  0.04624446,\n",
              "         0.16056952, -0.02151994,  0.09545762, -0.24948536, -0.04383735],\n",
              "       dtype=float32)]"
            ]
          },
          "metadata": {
            "tags": []
          },
          "execution_count": 28
        }
      ]
    }
  ]
}
